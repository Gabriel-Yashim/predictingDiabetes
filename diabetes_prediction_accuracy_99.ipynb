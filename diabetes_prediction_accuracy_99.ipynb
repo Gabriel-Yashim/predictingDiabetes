{
  "cells": [
    {
      "cell_type": "markdown",
      "id": "df6649e2",
      "metadata": {
        "papermill": {
          "duration": 0.008466,
          "end_time": "2024-01-08T03:22:33.481728",
          "exception": false,
          "start_time": "2024-01-08T03:22:33.473262",
          "status": "completed"
        },
        "tags": [],
        "id": "df6649e2"
      },
      "source": []
    },
    {
      "cell_type": "markdown",
      "id": "93c7bbf2",
      "metadata": {
        "papermill": {
          "duration": 0.008295,
          "end_time": "2024-01-08T03:22:33.499820",
          "exception": false,
          "start_time": "2024-01-08T03:22:33.491525",
          "status": "completed"
        },
        "tags": [],
        "id": "93c7bbf2"
      },
      "source": [
        "# Diabetes Prediction Dataset\n",
        "\n",
        "**Description:**\n",
        "\n",
        "Welcome to the **Diabetes Prediction Dataset**, a valuable resource for researchers, data scientists, and medical professionals interested in the field of diabetes risk assessment and prediction. This dataset contains a diverse range of health-related attributes, meticulously collected to aid in the development of predictive models for identifying individuals at risk of diabetes. By sharing this dataset, we aim to foster collaboration and innovation within the data science community, leading to improved early diagnosis and personalized treatment strategies for diabetes.\n",
        "\n",
        "**Columns:**\n",
        "\n",
        "- **Id:** Unique identifier for each data entry.\n",
        "- **Pregnancies:** Number of times pregnant.\n",
        "- **Glucose:** Plasma glucose concentration over 2 hours in an oral glucose tolerance test.\n",
        "- **BloodPressure:** Diastolic blood pressure (mm Hg).\n",
        "- **SkinThickness:** Triceps skinfold thickness (mm).\n",
        "- **Insulin:** 2-Hour serum insulin (mu U/ml).\n",
        "- **BMI:** Body mass index (weight in kg / height in m^2).\n",
        "- **DiabetesPedigreeFunction:** Diabetes pedigree function, a genetic score of diabetes.\n",
        "- **Age:** Age in years.\n",
        "- **Outcome:** Binary classification indicating the presence (1) or absence (0) of diabetes.\n",
        "\n",
        "\n"
      ]
    },
    {
      "cell_type": "code",
      "execution_count": 1,
      "id": "b3da8c5c",
      "metadata": {
        "execution": {
          "iopub.execute_input": "2024-01-08T03:22:33.518897Z",
          "iopub.status.busy": "2024-01-08T03:22:33.518317Z",
          "iopub.status.idle": "2024-01-08T03:22:35.455985Z",
          "shell.execute_reply": "2024-01-08T03:22:35.454852Z"
        },
        "papermill": {
          "duration": 1.950073,
          "end_time": "2024-01-08T03:22:35.458257",
          "exception": false,
          "start_time": "2024-01-08T03:22:33.508184",
          "status": "completed"
        },
        "tags": [],
        "id": "b3da8c5c"
      },
      "outputs": [],
      "source": [
        "import seaborn as sns # for making plots\n",
        "import matplotlib.pyplot as plt # for making plots\n",
        "from sklearn.model_selection import train_test_split # for splitting our data into train and test set\n",
        "from sklearn.metrics import accuracy_score, precision_score, confusion_matrix # for evaluating the performance of the model\n",
        "from xgboost import XGBClassifier\n",
        "import numpy as np # linear algebra\n",
        "import pandas as pd # data processing, CSV file I/O (e.g. pd.read_csv)"
      ]
    },
    {
      "cell_type": "code",
      "source": [
        "from google.colab import drive\n",
        "drive.mount('/content/drive')"
      ],
      "metadata": {
        "colab": {
          "base_uri": "https://localhost:8080/"
        },
        "id": "XktgkIaokH7a",
        "outputId": "c56473bd-f4c7-4bed-90b6-6c2fefb9d1fb"
      },
      "id": "XktgkIaokH7a",
      "execution_count": 3,
      "outputs": [
        {
          "output_type": "stream",
          "name": "stdout",
          "text": [
            "Mounted at /content/drive\n"
          ]
        }
      ]
    },
    {
      "cell_type": "code",
      "execution_count": 4,
      "id": "624355ef",
      "metadata": {
        "execution": {
          "iopub.execute_input": "2024-01-08T03:22:35.477579Z",
          "iopub.status.busy": "2024-01-08T03:22:35.476503Z",
          "iopub.status.idle": "2024-01-08T03:22:35.520971Z",
          "shell.execute_reply": "2024-01-08T03:22:35.519970Z"
        },
        "papermill": {
          "duration": 0.056614,
          "end_time": "2024-01-08T03:22:35.523430",
          "exception": false,
          "start_time": "2024-01-08T03:22:35.466816",
          "status": "completed"
        },
        "tags": [],
        "colab": {
          "base_uri": "https://localhost:8080/",
          "height": 206
        },
        "id": "624355ef",
        "outputId": "aded2bba-e1ce-4d4d-f428-219b44210071"
      },
      "outputs": [
        {
          "output_type": "execute_result",
          "data": {
            "text/plain": [
              "   Id  Pregnancies  Glucose  BloodPressure  SkinThickness  Insulin   BMI  \\\n",
              "0   1            6      148             72             35        0  33.6   \n",
              "1   2            1       85             66             29        0  26.6   \n",
              "2   3            8      183             64              0        0  23.3   \n",
              "3   4            1       89             66             23       94  28.1   \n",
              "4   5            0      137             40             35      168  43.1   \n",
              "\n",
              "   DiabetesPedigreeFunction  Age  Outcome  \n",
              "0                     0.627   50        1  \n",
              "1                     0.351   31        0  \n",
              "2                     0.672   32        1  \n",
              "3                     0.167   21        0  \n",
              "4                     2.288   33        1  "
            ],
            "text/html": [
              "\n",
              "  <div id=\"df-bb95fa74-08c7-40e9-9efb-10cbc9d30592\" class=\"colab-df-container\">\n",
              "    <div>\n",
              "<style scoped>\n",
              "    .dataframe tbody tr th:only-of-type {\n",
              "        vertical-align: middle;\n",
              "    }\n",
              "\n",
              "    .dataframe tbody tr th {\n",
              "        vertical-align: top;\n",
              "    }\n",
              "\n",
              "    .dataframe thead th {\n",
              "        text-align: right;\n",
              "    }\n",
              "</style>\n",
              "<table border=\"1\" class=\"dataframe\">\n",
              "  <thead>\n",
              "    <tr style=\"text-align: right;\">\n",
              "      <th></th>\n",
              "      <th>Id</th>\n",
              "      <th>Pregnancies</th>\n",
              "      <th>Glucose</th>\n",
              "      <th>BloodPressure</th>\n",
              "      <th>SkinThickness</th>\n",
              "      <th>Insulin</th>\n",
              "      <th>BMI</th>\n",
              "      <th>DiabetesPedigreeFunction</th>\n",
              "      <th>Age</th>\n",
              "      <th>Outcome</th>\n",
              "    </tr>\n",
              "  </thead>\n",
              "  <tbody>\n",
              "    <tr>\n",
              "      <th>0</th>\n",
              "      <td>1</td>\n",
              "      <td>6</td>\n",
              "      <td>148</td>\n",
              "      <td>72</td>\n",
              "      <td>35</td>\n",
              "      <td>0</td>\n",
              "      <td>33.6</td>\n",
              "      <td>0.627</td>\n",
              "      <td>50</td>\n",
              "      <td>1</td>\n",
              "    </tr>\n",
              "    <tr>\n",
              "      <th>1</th>\n",
              "      <td>2</td>\n",
              "      <td>1</td>\n",
              "      <td>85</td>\n",
              "      <td>66</td>\n",
              "      <td>29</td>\n",
              "      <td>0</td>\n",
              "      <td>26.6</td>\n",
              "      <td>0.351</td>\n",
              "      <td>31</td>\n",
              "      <td>0</td>\n",
              "    </tr>\n",
              "    <tr>\n",
              "      <th>2</th>\n",
              "      <td>3</td>\n",
              "      <td>8</td>\n",
              "      <td>183</td>\n",
              "      <td>64</td>\n",
              "      <td>0</td>\n",
              "      <td>0</td>\n",
              "      <td>23.3</td>\n",
              "      <td>0.672</td>\n",
              "      <td>32</td>\n",
              "      <td>1</td>\n",
              "    </tr>\n",
              "    <tr>\n",
              "      <th>3</th>\n",
              "      <td>4</td>\n",
              "      <td>1</td>\n",
              "      <td>89</td>\n",
              "      <td>66</td>\n",
              "      <td>23</td>\n",
              "      <td>94</td>\n",
              "      <td>28.1</td>\n",
              "      <td>0.167</td>\n",
              "      <td>21</td>\n",
              "      <td>0</td>\n",
              "    </tr>\n",
              "    <tr>\n",
              "      <th>4</th>\n",
              "      <td>5</td>\n",
              "      <td>0</td>\n",
              "      <td>137</td>\n",
              "      <td>40</td>\n",
              "      <td>35</td>\n",
              "      <td>168</td>\n",
              "      <td>43.1</td>\n",
              "      <td>2.288</td>\n",
              "      <td>33</td>\n",
              "      <td>1</td>\n",
              "    </tr>\n",
              "  </tbody>\n",
              "</table>\n",
              "</div>\n",
              "    <div class=\"colab-df-buttons\">\n",
              "\n",
              "  <div class=\"colab-df-container\">\n",
              "    <button class=\"colab-df-convert\" onclick=\"convertToInteractive('df-bb95fa74-08c7-40e9-9efb-10cbc9d30592')\"\n",
              "            title=\"Convert this dataframe to an interactive table.\"\n",
              "            style=\"display:none;\">\n",
              "\n",
              "  <svg xmlns=\"http://www.w3.org/2000/svg\" height=\"24px\" viewBox=\"0 -960 960 960\">\n",
              "    <path d=\"M120-120v-720h720v720H120Zm60-500h600v-160H180v160Zm220 220h160v-160H400v160Zm0 220h160v-160H400v160ZM180-400h160v-160H180v160Zm440 0h160v-160H620v160ZM180-180h160v-160H180v160Zm440 0h160v-160H620v160Z\"/>\n",
              "  </svg>\n",
              "    </button>\n",
              "\n",
              "  <style>\n",
              "    .colab-df-container {\n",
              "      display:flex;\n",
              "      gap: 12px;\n",
              "    }\n",
              "\n",
              "    .colab-df-convert {\n",
              "      background-color: #E8F0FE;\n",
              "      border: none;\n",
              "      border-radius: 50%;\n",
              "      cursor: pointer;\n",
              "      display: none;\n",
              "      fill: #1967D2;\n",
              "      height: 32px;\n",
              "      padding: 0 0 0 0;\n",
              "      width: 32px;\n",
              "    }\n",
              "\n",
              "    .colab-df-convert:hover {\n",
              "      background-color: #E2EBFA;\n",
              "      box-shadow: 0px 1px 2px rgba(60, 64, 67, 0.3), 0px 1px 3px 1px rgba(60, 64, 67, 0.15);\n",
              "      fill: #174EA6;\n",
              "    }\n",
              "\n",
              "    .colab-df-buttons div {\n",
              "      margin-bottom: 4px;\n",
              "    }\n",
              "\n",
              "    [theme=dark] .colab-df-convert {\n",
              "      background-color: #3B4455;\n",
              "      fill: #D2E3FC;\n",
              "    }\n",
              "\n",
              "    [theme=dark] .colab-df-convert:hover {\n",
              "      background-color: #434B5C;\n",
              "      box-shadow: 0px 1px 3px 1px rgba(0, 0, 0, 0.15);\n",
              "      filter: drop-shadow(0px 1px 2px rgba(0, 0, 0, 0.3));\n",
              "      fill: #FFFFFF;\n",
              "    }\n",
              "  </style>\n",
              "\n",
              "    <script>\n",
              "      const buttonEl =\n",
              "        document.querySelector('#df-bb95fa74-08c7-40e9-9efb-10cbc9d30592 button.colab-df-convert');\n",
              "      buttonEl.style.display =\n",
              "        google.colab.kernel.accessAllowed ? 'block' : 'none';\n",
              "\n",
              "      async function convertToInteractive(key) {\n",
              "        const element = document.querySelector('#df-bb95fa74-08c7-40e9-9efb-10cbc9d30592');\n",
              "        const dataTable =\n",
              "          await google.colab.kernel.invokeFunction('convertToInteractive',\n",
              "                                                    [key], {});\n",
              "        if (!dataTable) return;\n",
              "\n",
              "        const docLinkHtml = 'Like what you see? Visit the ' +\n",
              "          '<a target=\"_blank\" href=https://colab.research.google.com/notebooks/data_table.ipynb>data table notebook</a>'\n",
              "          + ' to learn more about interactive tables.';\n",
              "        element.innerHTML = '';\n",
              "        dataTable['output_type'] = 'display_data';\n",
              "        await google.colab.output.renderOutput(dataTable, element);\n",
              "        const docLink = document.createElement('div');\n",
              "        docLink.innerHTML = docLinkHtml;\n",
              "        element.appendChild(docLink);\n",
              "      }\n",
              "    </script>\n",
              "  </div>\n",
              "\n",
              "\n",
              "<div id=\"df-2e9154ed-5dd0-48d3-b4df-44dfc31f8bbc\">\n",
              "  <button class=\"colab-df-quickchart\" onclick=\"quickchart('df-2e9154ed-5dd0-48d3-b4df-44dfc31f8bbc')\"\n",
              "            title=\"Suggest charts\"\n",
              "            style=\"display:none;\">\n",
              "\n",
              "<svg xmlns=\"http://www.w3.org/2000/svg\" height=\"24px\"viewBox=\"0 0 24 24\"\n",
              "     width=\"24px\">\n",
              "    <g>\n",
              "        <path d=\"M19 3H5c-1.1 0-2 .9-2 2v14c0 1.1.9 2 2 2h14c1.1 0 2-.9 2-2V5c0-1.1-.9-2-2-2zM9 17H7v-7h2v7zm4 0h-2V7h2v10zm4 0h-2v-4h2v4z\"/>\n",
              "    </g>\n",
              "</svg>\n",
              "  </button>\n",
              "\n",
              "<style>\n",
              "  .colab-df-quickchart {\n",
              "      --bg-color: #E8F0FE;\n",
              "      --fill-color: #1967D2;\n",
              "      --hover-bg-color: #E2EBFA;\n",
              "      --hover-fill-color: #174EA6;\n",
              "      --disabled-fill-color: #AAA;\n",
              "      --disabled-bg-color: #DDD;\n",
              "  }\n",
              "\n",
              "  [theme=dark] .colab-df-quickchart {\n",
              "      --bg-color: #3B4455;\n",
              "      --fill-color: #D2E3FC;\n",
              "      --hover-bg-color: #434B5C;\n",
              "      --hover-fill-color: #FFFFFF;\n",
              "      --disabled-bg-color: #3B4455;\n",
              "      --disabled-fill-color: #666;\n",
              "  }\n",
              "\n",
              "  .colab-df-quickchart {\n",
              "    background-color: var(--bg-color);\n",
              "    border: none;\n",
              "    border-radius: 50%;\n",
              "    cursor: pointer;\n",
              "    display: none;\n",
              "    fill: var(--fill-color);\n",
              "    height: 32px;\n",
              "    padding: 0;\n",
              "    width: 32px;\n",
              "  }\n",
              "\n",
              "  .colab-df-quickchart:hover {\n",
              "    background-color: var(--hover-bg-color);\n",
              "    box-shadow: 0 1px 2px rgba(60, 64, 67, 0.3), 0 1px 3px 1px rgba(60, 64, 67, 0.15);\n",
              "    fill: var(--button-hover-fill-color);\n",
              "  }\n",
              "\n",
              "  .colab-df-quickchart-complete:disabled,\n",
              "  .colab-df-quickchart-complete:disabled:hover {\n",
              "    background-color: var(--disabled-bg-color);\n",
              "    fill: var(--disabled-fill-color);\n",
              "    box-shadow: none;\n",
              "  }\n",
              "\n",
              "  .colab-df-spinner {\n",
              "    border: 2px solid var(--fill-color);\n",
              "    border-color: transparent;\n",
              "    border-bottom-color: var(--fill-color);\n",
              "    animation:\n",
              "      spin 1s steps(1) infinite;\n",
              "  }\n",
              "\n",
              "  @keyframes spin {\n",
              "    0% {\n",
              "      border-color: transparent;\n",
              "      border-bottom-color: var(--fill-color);\n",
              "      border-left-color: var(--fill-color);\n",
              "    }\n",
              "    20% {\n",
              "      border-color: transparent;\n",
              "      border-left-color: var(--fill-color);\n",
              "      border-top-color: var(--fill-color);\n",
              "    }\n",
              "    30% {\n",
              "      border-color: transparent;\n",
              "      border-left-color: var(--fill-color);\n",
              "      border-top-color: var(--fill-color);\n",
              "      border-right-color: var(--fill-color);\n",
              "    }\n",
              "    40% {\n",
              "      border-color: transparent;\n",
              "      border-right-color: var(--fill-color);\n",
              "      border-top-color: var(--fill-color);\n",
              "    }\n",
              "    60% {\n",
              "      border-color: transparent;\n",
              "      border-right-color: var(--fill-color);\n",
              "    }\n",
              "    80% {\n",
              "      border-color: transparent;\n",
              "      border-right-color: var(--fill-color);\n",
              "      border-bottom-color: var(--fill-color);\n",
              "    }\n",
              "    90% {\n",
              "      border-color: transparent;\n",
              "      border-bottom-color: var(--fill-color);\n",
              "    }\n",
              "  }\n",
              "</style>\n",
              "\n",
              "  <script>\n",
              "    async function quickchart(key) {\n",
              "      const quickchartButtonEl =\n",
              "        document.querySelector('#' + key + ' button');\n",
              "      quickchartButtonEl.disabled = true;  // To prevent multiple clicks.\n",
              "      quickchartButtonEl.classList.add('colab-df-spinner');\n",
              "      try {\n",
              "        const charts = await google.colab.kernel.invokeFunction(\n",
              "            'suggestCharts', [key], {});\n",
              "      } catch (error) {\n",
              "        console.error('Error during call to suggestCharts:', error);\n",
              "      }\n",
              "      quickchartButtonEl.classList.remove('colab-df-spinner');\n",
              "      quickchartButtonEl.classList.add('colab-df-quickchart-complete');\n",
              "    }\n",
              "    (() => {\n",
              "      let quickchartButtonEl =\n",
              "        document.querySelector('#df-2e9154ed-5dd0-48d3-b4df-44dfc31f8bbc button');\n",
              "      quickchartButtonEl.style.display =\n",
              "        google.colab.kernel.accessAllowed ? 'block' : 'none';\n",
              "    })();\n",
              "  </script>\n",
              "</div>\n",
              "\n",
              "    </div>\n",
              "  </div>\n"
            ],
            "application/vnd.google.colaboratory.intrinsic+json": {
              "type": "dataframe",
              "variable_name": "df",
              "summary": "{\n  \"name\": \"df\",\n  \"rows\": 2768,\n  \"fields\": [\n    {\n      \"column\": \"Id\",\n      \"properties\": {\n        \"dtype\": \"number\",\n        \"std\": 799,\n        \"min\": 1,\n        \"max\": 2768,\n        \"num_unique_values\": 2768,\n        \"samples\": [\n          1379,\n          840,\n          2165\n        ],\n        \"semantic_type\": \"\",\n        \"description\": \"\"\n      }\n    },\n    {\n      \"column\": \"Pregnancies\",\n      \"properties\": {\n        \"dtype\": \"number\",\n        \"std\": 3,\n        \"min\": 0,\n        \"max\": 17,\n        \"num_unique_values\": 17,\n        \"samples\": [\n          6,\n          1,\n          3\n        ],\n        \"semantic_type\": \"\",\n        \"description\": \"\"\n      }\n    },\n    {\n      \"column\": \"Glucose\",\n      \"properties\": {\n        \"dtype\": \"number\",\n        \"std\": 32,\n        \"min\": 0,\n        \"max\": 199,\n        \"num_unique_values\": 136,\n        \"samples\": [\n          151,\n          101,\n          112\n        ],\n        \"semantic_type\": \"\",\n        \"description\": \"\"\n      }\n    },\n    {\n      \"column\": \"BloodPressure\",\n      \"properties\": {\n        \"dtype\": \"number\",\n        \"std\": 19,\n        \"min\": 0,\n        \"max\": 122,\n        \"num_unique_values\": 47,\n        \"samples\": [\n          86,\n          46,\n          85\n        ],\n        \"semantic_type\": \"\",\n        \"description\": \"\"\n      }\n    },\n    {\n      \"column\": \"SkinThickness\",\n      \"properties\": {\n        \"dtype\": \"number\",\n        \"std\": 16,\n        \"min\": 0,\n        \"max\": 110,\n        \"num_unique_values\": 53,\n        \"samples\": [\n          25,\n          46,\n          8\n        ],\n        \"semantic_type\": \"\",\n        \"description\": \"\"\n      }\n    },\n    {\n      \"column\": \"Insulin\",\n      \"properties\": {\n        \"dtype\": \"number\",\n        \"std\": 112,\n        \"min\": 0,\n        \"max\": 846,\n        \"num_unique_values\": 187,\n        \"samples\": [\n          112,\n          129,\n          63\n        ],\n        \"semantic_type\": \"\",\n        \"description\": \"\"\n      }\n    },\n    {\n      \"column\": \"BMI\",\n      \"properties\": {\n        \"dtype\": \"number\",\n        \"std\": 8.076127218661217,\n        \"min\": 0.0,\n        \"max\": 80.6,\n        \"num_unique_values\": 253,\n        \"samples\": [\n          45.3,\n          31.0,\n          26.5\n        ],\n        \"semantic_type\": \"\",\n        \"description\": \"\"\n      }\n    },\n    {\n      \"column\": \"DiabetesPedigreeFunction\",\n      \"properties\": {\n        \"dtype\": \"number\",\n        \"std\": 0.3256688329952569,\n        \"min\": 0.078,\n        \"max\": 2.42,\n        \"num_unique_values\": 523,\n        \"samples\": [\n          0.322,\n          0.174,\n          0.248\n        ],\n        \"semantic_type\": \"\",\n        \"description\": \"\"\n      }\n    },\n    {\n      \"column\": \"Age\",\n      \"properties\": {\n        \"dtype\": \"number\",\n        \"std\": 11,\n        \"min\": 21,\n        \"max\": 81,\n        \"num_unique_values\": 52,\n        \"samples\": [\n          60,\n          47,\n          72\n        ],\n        \"semantic_type\": \"\",\n        \"description\": \"\"\n      }\n    },\n    {\n      \"column\": \"Outcome\",\n      \"properties\": {\n        \"dtype\": \"number\",\n        \"std\": 0,\n        \"min\": 0,\n        \"max\": 1,\n        \"num_unique_values\": 2,\n        \"samples\": [\n          0,\n          1\n        ],\n        \"semantic_type\": \"\",\n        \"description\": \"\"\n      }\n    }\n  ]\n}"
            }
          },
          "metadata": {},
          "execution_count": 4
        }
      ],
      "source": [
        "df=pd.read_csv(\"/content/drive/MyDrive/Jobs/Mr Dayo/DIABETES PREDICTION/Healthcare-Diabetes.csv\")\n",
        "df.head()"
      ]
    },
    {
      "cell_type": "markdown",
      "id": "354f9396",
      "metadata": {
        "papermill": {
          "duration": 0.008429,
          "end_time": "2024-01-08T03:22:35.540683",
          "exception": false,
          "start_time": "2024-01-08T03:22:35.532254",
          "status": "completed"
        },
        "tags": [],
        "id": "354f9396"
      },
      "source": [
        "## Basic Data Information"
      ]
    },
    {
      "cell_type": "code",
      "execution_count": 5,
      "id": "b65aef62",
      "metadata": {
        "execution": {
          "iopub.execute_input": "2024-01-08T03:22:35.560127Z",
          "iopub.status.busy": "2024-01-08T03:22:35.559602Z",
          "iopub.status.idle": "2024-01-08T03:22:35.582928Z",
          "shell.execute_reply": "2024-01-08T03:22:35.581816Z"
        },
        "papermill": {
          "duration": 0.035592,
          "end_time": "2024-01-08T03:22:35.584949",
          "exception": false,
          "start_time": "2024-01-08T03:22:35.549357",
          "status": "completed"
        },
        "tags": [],
        "colab": {
          "base_uri": "https://localhost:8080/"
        },
        "id": "b65aef62",
        "outputId": "dfc9c8dd-3d22-4c71-f5ba-fb974915eb66"
      },
      "outputs": [
        {
          "output_type": "stream",
          "name": "stdout",
          "text": [
            "<class 'pandas.core.frame.DataFrame'>\n",
            "RangeIndex: 2768 entries, 0 to 2767\n",
            "Data columns (total 10 columns):\n",
            " #   Column                    Non-Null Count  Dtype  \n",
            "---  ------                    --------------  -----  \n",
            " 0   Id                        2768 non-null   int64  \n",
            " 1   Pregnancies               2768 non-null   int64  \n",
            " 2   Glucose                   2768 non-null   int64  \n",
            " 3   BloodPressure             2768 non-null   int64  \n",
            " 4   SkinThickness             2768 non-null   int64  \n",
            " 5   Insulin                   2768 non-null   int64  \n",
            " 6   BMI                       2768 non-null   float64\n",
            " 7   DiabetesPedigreeFunction  2768 non-null   float64\n",
            " 8   Age                       2768 non-null   int64  \n",
            " 9   Outcome                   2768 non-null   int64  \n",
            "dtypes: float64(2), int64(8)\n",
            "memory usage: 216.4 KB\n"
          ]
        }
      ],
      "source": [
        "df.info()"
      ]
    },
    {
      "cell_type": "markdown",
      "id": "7e2d408b",
      "metadata": {
        "papermill": {
          "duration": 0.008706,
          "end_time": "2024-01-08T03:22:35.602688",
          "exception": false,
          "start_time": "2024-01-08T03:22:35.593982",
          "status": "completed"
        },
        "tags": [],
        "id": "7e2d408b"
      },
      "source": [
        "## Five Number Summary"
      ]
    },
    {
      "cell_type": "code",
      "execution_count": 6,
      "id": "f1356a61",
      "metadata": {
        "execution": {
          "iopub.execute_input": "2024-01-08T03:22:35.622711Z",
          "iopub.status.busy": "2024-01-08T03:22:35.622354Z",
          "iopub.status.idle": "2024-01-08T03:22:35.657569Z",
          "shell.execute_reply": "2024-01-08T03:22:35.656696Z"
        },
        "papermill": {
          "duration": 0.047495,
          "end_time": "2024-01-08T03:22:35.659772",
          "exception": false,
          "start_time": "2024-01-08T03:22:35.612277",
          "status": "completed"
        },
        "tags": [],
        "colab": {
          "base_uri": "https://localhost:8080/",
          "height": 300
        },
        "id": "f1356a61",
        "outputId": "34a56abb-92ed-4f2d-dcfe-aaea908605bc"
      },
      "outputs": [
        {
          "output_type": "execute_result",
          "data": {
            "text/plain": [
              "                Id  Pregnancies      Glucose  BloodPressure  SkinThickness  \\\n",
              "count  2768.000000  2768.000000  2768.000000    2768.000000    2768.000000   \n",
              "mean   1384.500000     3.742775   121.102601      69.134393      20.824422   \n",
              "std     799.197097     3.323801    32.036508      19.231438      16.059596   \n",
              "min       1.000000     0.000000     0.000000       0.000000       0.000000   \n",
              "25%     692.750000     1.000000    99.000000      62.000000       0.000000   \n",
              "50%    1384.500000     3.000000   117.000000      72.000000      23.000000   \n",
              "75%    2076.250000     6.000000   141.000000      80.000000      32.000000   \n",
              "max    2768.000000    17.000000   199.000000     122.000000     110.000000   \n",
              "\n",
              "           Insulin          BMI  DiabetesPedigreeFunction          Age  \\\n",
              "count  2768.000000  2768.000000               2768.000000  2768.000000   \n",
              "mean     80.127890    32.137392                  0.471193    33.132225   \n",
              "std     112.301933     8.076127                  0.325669    11.777230   \n",
              "min       0.000000     0.000000                  0.078000    21.000000   \n",
              "25%       0.000000    27.300000                  0.244000    24.000000   \n",
              "50%      37.000000    32.200000                  0.375000    29.000000   \n",
              "75%     130.000000    36.625000                  0.624000    40.000000   \n",
              "max     846.000000    80.600000                  2.420000    81.000000   \n",
              "\n",
              "           Outcome  \n",
              "count  2768.000000  \n",
              "mean      0.343931  \n",
              "std       0.475104  \n",
              "min       0.000000  \n",
              "25%       0.000000  \n",
              "50%       0.000000  \n",
              "75%       1.000000  \n",
              "max       1.000000  "
            ],
            "text/html": [
              "\n",
              "  <div id=\"df-b43b236b-e0b9-4a4c-99b1-f712248e2e6c\" class=\"colab-df-container\">\n",
              "    <div>\n",
              "<style scoped>\n",
              "    .dataframe tbody tr th:only-of-type {\n",
              "        vertical-align: middle;\n",
              "    }\n",
              "\n",
              "    .dataframe tbody tr th {\n",
              "        vertical-align: top;\n",
              "    }\n",
              "\n",
              "    .dataframe thead th {\n",
              "        text-align: right;\n",
              "    }\n",
              "</style>\n",
              "<table border=\"1\" class=\"dataframe\">\n",
              "  <thead>\n",
              "    <tr style=\"text-align: right;\">\n",
              "      <th></th>\n",
              "      <th>Id</th>\n",
              "      <th>Pregnancies</th>\n",
              "      <th>Glucose</th>\n",
              "      <th>BloodPressure</th>\n",
              "      <th>SkinThickness</th>\n",
              "      <th>Insulin</th>\n",
              "      <th>BMI</th>\n",
              "      <th>DiabetesPedigreeFunction</th>\n",
              "      <th>Age</th>\n",
              "      <th>Outcome</th>\n",
              "    </tr>\n",
              "  </thead>\n",
              "  <tbody>\n",
              "    <tr>\n",
              "      <th>count</th>\n",
              "      <td>2768.000000</td>\n",
              "      <td>2768.000000</td>\n",
              "      <td>2768.000000</td>\n",
              "      <td>2768.000000</td>\n",
              "      <td>2768.000000</td>\n",
              "      <td>2768.000000</td>\n",
              "      <td>2768.000000</td>\n",
              "      <td>2768.000000</td>\n",
              "      <td>2768.000000</td>\n",
              "      <td>2768.000000</td>\n",
              "    </tr>\n",
              "    <tr>\n",
              "      <th>mean</th>\n",
              "      <td>1384.500000</td>\n",
              "      <td>3.742775</td>\n",
              "      <td>121.102601</td>\n",
              "      <td>69.134393</td>\n",
              "      <td>20.824422</td>\n",
              "      <td>80.127890</td>\n",
              "      <td>32.137392</td>\n",
              "      <td>0.471193</td>\n",
              "      <td>33.132225</td>\n",
              "      <td>0.343931</td>\n",
              "    </tr>\n",
              "    <tr>\n",
              "      <th>std</th>\n",
              "      <td>799.197097</td>\n",
              "      <td>3.323801</td>\n",
              "      <td>32.036508</td>\n",
              "      <td>19.231438</td>\n",
              "      <td>16.059596</td>\n",
              "      <td>112.301933</td>\n",
              "      <td>8.076127</td>\n",
              "      <td>0.325669</td>\n",
              "      <td>11.777230</td>\n",
              "      <td>0.475104</td>\n",
              "    </tr>\n",
              "    <tr>\n",
              "      <th>min</th>\n",
              "      <td>1.000000</td>\n",
              "      <td>0.000000</td>\n",
              "      <td>0.000000</td>\n",
              "      <td>0.000000</td>\n",
              "      <td>0.000000</td>\n",
              "      <td>0.000000</td>\n",
              "      <td>0.000000</td>\n",
              "      <td>0.078000</td>\n",
              "      <td>21.000000</td>\n",
              "      <td>0.000000</td>\n",
              "    </tr>\n",
              "    <tr>\n",
              "      <th>25%</th>\n",
              "      <td>692.750000</td>\n",
              "      <td>1.000000</td>\n",
              "      <td>99.000000</td>\n",
              "      <td>62.000000</td>\n",
              "      <td>0.000000</td>\n",
              "      <td>0.000000</td>\n",
              "      <td>27.300000</td>\n",
              "      <td>0.244000</td>\n",
              "      <td>24.000000</td>\n",
              "      <td>0.000000</td>\n",
              "    </tr>\n",
              "    <tr>\n",
              "      <th>50%</th>\n",
              "      <td>1384.500000</td>\n",
              "      <td>3.000000</td>\n",
              "      <td>117.000000</td>\n",
              "      <td>72.000000</td>\n",
              "      <td>23.000000</td>\n",
              "      <td>37.000000</td>\n",
              "      <td>32.200000</td>\n",
              "      <td>0.375000</td>\n",
              "      <td>29.000000</td>\n",
              "      <td>0.000000</td>\n",
              "    </tr>\n",
              "    <tr>\n",
              "      <th>75%</th>\n",
              "      <td>2076.250000</td>\n",
              "      <td>6.000000</td>\n",
              "      <td>141.000000</td>\n",
              "      <td>80.000000</td>\n",
              "      <td>32.000000</td>\n",
              "      <td>130.000000</td>\n",
              "      <td>36.625000</td>\n",
              "      <td>0.624000</td>\n",
              "      <td>40.000000</td>\n",
              "      <td>1.000000</td>\n",
              "    </tr>\n",
              "    <tr>\n",
              "      <th>max</th>\n",
              "      <td>2768.000000</td>\n",
              "      <td>17.000000</td>\n",
              "      <td>199.000000</td>\n",
              "      <td>122.000000</td>\n",
              "      <td>110.000000</td>\n",
              "      <td>846.000000</td>\n",
              "      <td>80.600000</td>\n",
              "      <td>2.420000</td>\n",
              "      <td>81.000000</td>\n",
              "      <td>1.000000</td>\n",
              "    </tr>\n",
              "  </tbody>\n",
              "</table>\n",
              "</div>\n",
              "    <div class=\"colab-df-buttons\">\n",
              "\n",
              "  <div class=\"colab-df-container\">\n",
              "    <button class=\"colab-df-convert\" onclick=\"convertToInteractive('df-b43b236b-e0b9-4a4c-99b1-f712248e2e6c')\"\n",
              "            title=\"Convert this dataframe to an interactive table.\"\n",
              "            style=\"display:none;\">\n",
              "\n",
              "  <svg xmlns=\"http://www.w3.org/2000/svg\" height=\"24px\" viewBox=\"0 -960 960 960\">\n",
              "    <path d=\"M120-120v-720h720v720H120Zm60-500h600v-160H180v160Zm220 220h160v-160H400v160Zm0 220h160v-160H400v160ZM180-400h160v-160H180v160Zm440 0h160v-160H620v160ZM180-180h160v-160H180v160Zm440 0h160v-160H620v160Z\"/>\n",
              "  </svg>\n",
              "    </button>\n",
              "\n",
              "  <style>\n",
              "    .colab-df-container {\n",
              "      display:flex;\n",
              "      gap: 12px;\n",
              "    }\n",
              "\n",
              "    .colab-df-convert {\n",
              "      background-color: #E8F0FE;\n",
              "      border: none;\n",
              "      border-radius: 50%;\n",
              "      cursor: pointer;\n",
              "      display: none;\n",
              "      fill: #1967D2;\n",
              "      height: 32px;\n",
              "      padding: 0 0 0 0;\n",
              "      width: 32px;\n",
              "    }\n",
              "\n",
              "    .colab-df-convert:hover {\n",
              "      background-color: #E2EBFA;\n",
              "      box-shadow: 0px 1px 2px rgba(60, 64, 67, 0.3), 0px 1px 3px 1px rgba(60, 64, 67, 0.15);\n",
              "      fill: #174EA6;\n",
              "    }\n",
              "\n",
              "    .colab-df-buttons div {\n",
              "      margin-bottom: 4px;\n",
              "    }\n",
              "\n",
              "    [theme=dark] .colab-df-convert {\n",
              "      background-color: #3B4455;\n",
              "      fill: #D2E3FC;\n",
              "    }\n",
              "\n",
              "    [theme=dark] .colab-df-convert:hover {\n",
              "      background-color: #434B5C;\n",
              "      box-shadow: 0px 1px 3px 1px rgba(0, 0, 0, 0.15);\n",
              "      filter: drop-shadow(0px 1px 2px rgba(0, 0, 0, 0.3));\n",
              "      fill: #FFFFFF;\n",
              "    }\n",
              "  </style>\n",
              "\n",
              "    <script>\n",
              "      const buttonEl =\n",
              "        document.querySelector('#df-b43b236b-e0b9-4a4c-99b1-f712248e2e6c button.colab-df-convert');\n",
              "      buttonEl.style.display =\n",
              "        google.colab.kernel.accessAllowed ? 'block' : 'none';\n",
              "\n",
              "      async function convertToInteractive(key) {\n",
              "        const element = document.querySelector('#df-b43b236b-e0b9-4a4c-99b1-f712248e2e6c');\n",
              "        const dataTable =\n",
              "          await google.colab.kernel.invokeFunction('convertToInteractive',\n",
              "                                                    [key], {});\n",
              "        if (!dataTable) return;\n",
              "\n",
              "        const docLinkHtml = 'Like what you see? Visit the ' +\n",
              "          '<a target=\"_blank\" href=https://colab.research.google.com/notebooks/data_table.ipynb>data table notebook</a>'\n",
              "          + ' to learn more about interactive tables.';\n",
              "        element.innerHTML = '';\n",
              "        dataTable['output_type'] = 'display_data';\n",
              "        await google.colab.output.renderOutput(dataTable, element);\n",
              "        const docLink = document.createElement('div');\n",
              "        docLink.innerHTML = docLinkHtml;\n",
              "        element.appendChild(docLink);\n",
              "      }\n",
              "    </script>\n",
              "  </div>\n",
              "\n",
              "\n",
              "<div id=\"df-12e2a311-157c-4d42-94eb-de5a675c38dd\">\n",
              "  <button class=\"colab-df-quickchart\" onclick=\"quickchart('df-12e2a311-157c-4d42-94eb-de5a675c38dd')\"\n",
              "            title=\"Suggest charts\"\n",
              "            style=\"display:none;\">\n",
              "\n",
              "<svg xmlns=\"http://www.w3.org/2000/svg\" height=\"24px\"viewBox=\"0 0 24 24\"\n",
              "     width=\"24px\">\n",
              "    <g>\n",
              "        <path d=\"M19 3H5c-1.1 0-2 .9-2 2v14c0 1.1.9 2 2 2h14c1.1 0 2-.9 2-2V5c0-1.1-.9-2-2-2zM9 17H7v-7h2v7zm4 0h-2V7h2v10zm4 0h-2v-4h2v4z\"/>\n",
              "    </g>\n",
              "</svg>\n",
              "  </button>\n",
              "\n",
              "<style>\n",
              "  .colab-df-quickchart {\n",
              "      --bg-color: #E8F0FE;\n",
              "      --fill-color: #1967D2;\n",
              "      --hover-bg-color: #E2EBFA;\n",
              "      --hover-fill-color: #174EA6;\n",
              "      --disabled-fill-color: #AAA;\n",
              "      --disabled-bg-color: #DDD;\n",
              "  }\n",
              "\n",
              "  [theme=dark] .colab-df-quickchart {\n",
              "      --bg-color: #3B4455;\n",
              "      --fill-color: #D2E3FC;\n",
              "      --hover-bg-color: #434B5C;\n",
              "      --hover-fill-color: #FFFFFF;\n",
              "      --disabled-bg-color: #3B4455;\n",
              "      --disabled-fill-color: #666;\n",
              "  }\n",
              "\n",
              "  .colab-df-quickchart {\n",
              "    background-color: var(--bg-color);\n",
              "    border: none;\n",
              "    border-radius: 50%;\n",
              "    cursor: pointer;\n",
              "    display: none;\n",
              "    fill: var(--fill-color);\n",
              "    height: 32px;\n",
              "    padding: 0;\n",
              "    width: 32px;\n",
              "  }\n",
              "\n",
              "  .colab-df-quickchart:hover {\n",
              "    background-color: var(--hover-bg-color);\n",
              "    box-shadow: 0 1px 2px rgba(60, 64, 67, 0.3), 0 1px 3px 1px rgba(60, 64, 67, 0.15);\n",
              "    fill: var(--button-hover-fill-color);\n",
              "  }\n",
              "\n",
              "  .colab-df-quickchart-complete:disabled,\n",
              "  .colab-df-quickchart-complete:disabled:hover {\n",
              "    background-color: var(--disabled-bg-color);\n",
              "    fill: var(--disabled-fill-color);\n",
              "    box-shadow: none;\n",
              "  }\n",
              "\n",
              "  .colab-df-spinner {\n",
              "    border: 2px solid var(--fill-color);\n",
              "    border-color: transparent;\n",
              "    border-bottom-color: var(--fill-color);\n",
              "    animation:\n",
              "      spin 1s steps(1) infinite;\n",
              "  }\n",
              "\n",
              "  @keyframes spin {\n",
              "    0% {\n",
              "      border-color: transparent;\n",
              "      border-bottom-color: var(--fill-color);\n",
              "      border-left-color: var(--fill-color);\n",
              "    }\n",
              "    20% {\n",
              "      border-color: transparent;\n",
              "      border-left-color: var(--fill-color);\n",
              "      border-top-color: var(--fill-color);\n",
              "    }\n",
              "    30% {\n",
              "      border-color: transparent;\n",
              "      border-left-color: var(--fill-color);\n",
              "      border-top-color: var(--fill-color);\n",
              "      border-right-color: var(--fill-color);\n",
              "    }\n",
              "    40% {\n",
              "      border-color: transparent;\n",
              "      border-right-color: var(--fill-color);\n",
              "      border-top-color: var(--fill-color);\n",
              "    }\n",
              "    60% {\n",
              "      border-color: transparent;\n",
              "      border-right-color: var(--fill-color);\n",
              "    }\n",
              "    80% {\n",
              "      border-color: transparent;\n",
              "      border-right-color: var(--fill-color);\n",
              "      border-bottom-color: var(--fill-color);\n",
              "    }\n",
              "    90% {\n",
              "      border-color: transparent;\n",
              "      border-bottom-color: var(--fill-color);\n",
              "    }\n",
              "  }\n",
              "</style>\n",
              "\n",
              "  <script>\n",
              "    async function quickchart(key) {\n",
              "      const quickchartButtonEl =\n",
              "        document.querySelector('#' + key + ' button');\n",
              "      quickchartButtonEl.disabled = true;  // To prevent multiple clicks.\n",
              "      quickchartButtonEl.classList.add('colab-df-spinner');\n",
              "      try {\n",
              "        const charts = await google.colab.kernel.invokeFunction(\n",
              "            'suggestCharts', [key], {});\n",
              "      } catch (error) {\n",
              "        console.error('Error during call to suggestCharts:', error);\n",
              "      }\n",
              "      quickchartButtonEl.classList.remove('colab-df-spinner');\n",
              "      quickchartButtonEl.classList.add('colab-df-quickchart-complete');\n",
              "    }\n",
              "    (() => {\n",
              "      let quickchartButtonEl =\n",
              "        document.querySelector('#df-12e2a311-157c-4d42-94eb-de5a675c38dd button');\n",
              "      quickchartButtonEl.style.display =\n",
              "        google.colab.kernel.accessAllowed ? 'block' : 'none';\n",
              "    })();\n",
              "  </script>\n",
              "</div>\n",
              "\n",
              "    </div>\n",
              "  </div>\n"
            ],
            "application/vnd.google.colaboratory.intrinsic+json": {
              "type": "dataframe",
              "summary": "{\n  \"name\": \"df\",\n  \"rows\": 8,\n  \"fields\": [\n    {\n      \"column\": \"Id\",\n      \"properties\": {\n        \"dtype\": \"number\",\n        \"std\": 997.2958106390221,\n        \"min\": 1.0,\n        \"max\": 2768.0,\n        \"num_unique_values\": 6,\n        \"samples\": [\n          2768.0,\n          1384.5,\n          2076.25\n        ],\n        \"semantic_type\": \"\",\n        \"description\": \"\"\n      }\n    },\n    {\n      \"column\": \"Pregnancies\",\n      \"properties\": {\n        \"dtype\": \"number\",\n        \"std\": 976.9293671864264,\n        \"min\": 0.0,\n        \"max\": 2768.0,\n        \"num_unique_values\": 8,\n        \"samples\": [\n          3.7427745664739884,\n          3.0,\n          2768.0\n        ],\n        \"semantic_type\": \"\",\n        \"description\": \"\"\n      }\n    },\n    {\n      \"column\": \"Glucose\",\n      \"properties\": {\n        \"dtype\": \"number\",\n        \"std\": 944.848901721943,\n        \"min\": 0.0,\n        \"max\": 2768.0,\n        \"num_unique_values\": 8,\n        \"samples\": [\n          121.10260115606937,\n          117.0,\n          2768.0\n        ],\n        \"semantic_type\": \"\",\n        \"description\": \"\"\n      }\n    },\n    {\n      \"column\": \"BloodPressure\",\n      \"properties\": {\n        \"dtype\": \"number\",\n        \"std\": 957.9282304225563,\n        \"min\": 0.0,\n        \"max\": 2768.0,\n        \"num_unique_values\": 8,\n        \"samples\": [\n          69.13439306358381,\n          72.0,\n          2768.0\n        ],\n        \"semantic_type\": \"\",\n        \"description\": \"\"\n      }\n    },\n    {\n      \"column\": \"SkinThickness\",\n      \"properties\": {\n        \"dtype\": \"number\",\n        \"std\": 969.0674591265714,\n        \"min\": 0.0,\n        \"max\": 2768.0,\n        \"num_unique_values\": 7,\n        \"samples\": [\n          2768.0,\n          20.82442196531792,\n          32.0\n        ],\n        \"semantic_type\": \"\",\n        \"description\": \"\"\n      }\n    },\n    {\n      \"column\": \"Insulin\",\n      \"properties\": {\n        \"dtype\": \"number\",\n        \"std\": 959.264832566579,\n        \"min\": 0.0,\n        \"max\": 2768.0,\n        \"num_unique_values\": 7,\n        \"samples\": [\n          2768.0,\n          80.1278901734104,\n          130.0\n        ],\n        \"semantic_type\": \"\",\n        \"description\": \"\"\n      }\n    },\n    {\n      \"column\": \"BMI\",\n      \"properties\": {\n        \"dtype\": \"number\",\n        \"std\": 967.9735586147538,\n        \"min\": 0.0,\n        \"max\": 2768.0,\n        \"num_unique_values\": 8,\n        \"samples\": [\n          32.13739161849711,\n          32.2,\n          2768.0\n        ],\n        \"semantic_type\": \"\",\n        \"description\": \"\"\n      }\n    },\n    {\n      \"column\": \"DiabetesPedigreeFunction\",\n      \"properties\": {\n        \"dtype\": \"number\",\n        \"std\": 978.4068687702716,\n        \"min\": 0.078,\n        \"max\": 2768.0,\n        \"num_unique_values\": 8,\n        \"samples\": [\n          0.4711925578034682,\n          0.375,\n          2768.0\n        ],\n        \"semantic_type\": \"\",\n        \"description\": \"\"\n      }\n    },\n    {\n      \"column\": \"Age\",\n      \"properties\": {\n        \"dtype\": \"number\",\n        \"std\": 966.74265566731,\n        \"min\": 11.777229987737899,\n        \"max\": 2768.0,\n        \"num_unique_values\": 8,\n        \"samples\": [\n          33.13222543352601,\n          29.0,\n          2768.0\n        ],\n        \"semantic_type\": \"\",\n        \"description\": \"\"\n      }\n    },\n    {\n      \"column\": \"Outcome\",\n      \"properties\": {\n        \"dtype\": \"number\",\n        \"std\": 978.4934906425389,\n        \"min\": 0.0,\n        \"max\": 2768.0,\n        \"num_unique_values\": 5,\n        \"samples\": [\n          0.3439306358381503,\n          1.0,\n          0.4751040951436765\n        ],\n        \"semantic_type\": \"\",\n        \"description\": \"\"\n      }\n    }\n  ]\n}"
            }
          },
          "metadata": {},
          "execution_count": 6
        }
      ],
      "source": [
        "df.describe()"
      ]
    },
    {
      "cell_type": "code",
      "execution_count": 7,
      "id": "398f10a8",
      "metadata": {
        "execution": {
          "iopub.execute_input": "2024-01-08T03:22:35.679018Z",
          "iopub.status.busy": "2024-01-08T03:22:35.678674Z",
          "iopub.status.idle": "2024-01-08T03:22:35.874522Z",
          "shell.execute_reply": "2024-01-08T03:22:35.873405Z"
        },
        "papermill": {
          "duration": 0.208018,
          "end_time": "2024-01-08T03:22:35.876731",
          "exception": false,
          "start_time": "2024-01-08T03:22:35.668713",
          "status": "completed"
        },
        "tags": [],
        "colab": {
          "base_uri": "https://localhost:8080/",
          "height": 461
        },
        "id": "398f10a8",
        "outputId": "90644ba7-adec-4a3b-c1cb-47ec84bebd56"
      },
      "outputs": [
        {
          "output_type": "execute_result",
          "data": {
            "text/plain": [
              "<Axes: xlabel='Outcome'>"
            ]
          },
          "metadata": {},
          "execution_count": 7
        },
        {
          "output_type": "display_data",
          "data": {
            "text/plain": [
              "<Figure size 640x480 with 1 Axes>"
            ],
            "image/png": "[encoded data removed]"
          },
          "metadata": {}
        }
      ],
      "source": [
        "df[\"Outcome\"].value_counts().plot(kind=\"bar\")"
      ]
    },
    {
      "cell_type": "markdown",
      "source": [
        "1 represents the people having diabetes on the dataset while 0 represent the people that do not have diabetes.\n",
        "And as we can see here, we have an umbalanced dataset. this could affect our model's ability to make predictions. we need to balance the data."
      ],
      "metadata": {
        "id": "2tjlbnVgbtAf"
      },
      "id": "2tjlbnVgbtAf"
    },
    {
      "cell_type": "code",
      "execution_count": 8,
      "id": "9d3d4234",
      "metadata": {
        "execution": {
          "iopub.execute_input": "2024-01-08T03:22:35.897504Z",
          "iopub.status.busy": "2024-01-08T03:22:35.896565Z",
          "iopub.status.idle": "2024-01-08T03:22:35.907315Z",
          "shell.execute_reply": "2024-01-08T03:22:35.905624Z"
        },
        "papermill": {
          "duration": 0.023672,
          "end_time": "2024-01-08T03:22:35.909871",
          "exception": false,
          "start_time": "2024-01-08T03:22:35.886199",
          "status": "completed"
        },
        "tags": [],
        "colab": {
          "base_uri": "https://localhost:8080/",
          "height": 398
        },
        "id": "9d3d4234",
        "outputId": "624f1f19-afb2-4a15-ef58-a3f28a12dd5d"
      },
      "outputs": [
        {
          "output_type": "execute_result",
          "data": {
            "text/plain": [
              "Id                          0\n",
              "Pregnancies                 0\n",
              "Glucose                     0\n",
              "BloodPressure               0\n",
              "SkinThickness               0\n",
              "Insulin                     0\n",
              "BMI                         0\n",
              "DiabetesPedigreeFunction    0\n",
              "Age                         0\n",
              "Outcome                     0\n",
              "dtype: int64"
            ],
            "text/html": [
              "<div>\n",
              "<style scoped>\n",
              "    .dataframe tbody tr th:only-of-type {\n",
              "        vertical-align: middle;\n",
              "    }\n",
              "\n",
              "    .dataframe tbody tr th {\n",
              "        vertical-align: top;\n",
              "    }\n",
              "\n",
              "    .dataframe thead th {\n",
              "        text-align: right;\n",
              "    }\n",
              "</style>\n",
              "<table border=\"1\" class=\"dataframe\">\n",
              "  <thead>\n",
              "    <tr style=\"text-align: right;\">\n",
              "      <th></th>\n",
              "      <th>0</th>\n",
              "    </tr>\n",
              "  </thead>\n",
              "  <tbody>\n",
              "    <tr>\n",
              "      <th>Id</th>\n",
              "      <td>0</td>\n",
              "    </tr>\n",
              "    <tr>\n",
              "      <th>Pregnancies</th>\n",
              "      <td>0</td>\n",
              "    </tr>\n",
              "    <tr>\n",
              "      <th>Glucose</th>\n",
              "      <td>0</td>\n",
              "    </tr>\n",
              "    <tr>\n",
              "      <th>BloodPressure</th>\n",
              "      <td>0</td>\n",
              "    </tr>\n",
              "    <tr>\n",
              "      <th>SkinThickness</th>\n",
              "      <td>0</td>\n",
              "    </tr>\n",
              "    <tr>\n",
              "      <th>Insulin</th>\n",
              "      <td>0</td>\n",
              "    </tr>\n",
              "    <tr>\n",
              "      <th>BMI</th>\n",
              "      <td>0</td>\n",
              "    </tr>\n",
              "    <tr>\n",
              "      <th>DiabetesPedigreeFunction</th>\n",
              "      <td>0</td>\n",
              "    </tr>\n",
              "    <tr>\n",
              "      <th>Age</th>\n",
              "      <td>0</td>\n",
              "    </tr>\n",
              "    <tr>\n",
              "      <th>Outcome</th>\n",
              "      <td>0</td>\n",
              "    </tr>\n",
              "  </tbody>\n",
              "</table>\n",
              "</div><br><label><b>dtype:</b> int64</label>"
            ]
          },
          "metadata": {},
          "execution_count": 8
        }
      ],
      "source": [
        "df.isnull().sum()"
      ]
    },
    {
      "cell_type": "code",
      "execution_count": 9,
      "id": "b153cf01",
      "metadata": {
        "execution": {
          "iopub.execute_input": "2024-01-08T03:22:35.930752Z",
          "iopub.status.busy": "2024-01-08T03:22:35.930395Z",
          "iopub.status.idle": "2024-01-08T03:22:35.941456Z",
          "shell.execute_reply": "2024-01-08T03:22:35.940572Z"
        },
        "papermill": {
          "duration": 0.024271,
          "end_time": "2024-01-08T03:22:35.943998",
          "exception": false,
          "start_time": "2024-01-08T03:22:35.919727",
          "status": "completed"
        },
        "tags": [],
        "colab": {
          "base_uri": "https://localhost:8080/"
        },
        "id": "b153cf01",
        "outputId": "69f75669-d634-4744-d7e5-0ee5aaf9bdb4"
      },
      "outputs": [
        {
          "output_type": "execute_result",
          "data": {
            "text/plain": [
              "0"
            ]
          },
          "metadata": {},
          "execution_count": 9
        }
      ],
      "source": [
        "df.duplicated().sum()"
      ]
    },
    {
      "cell_type": "code",
      "execution_count": 10,
      "id": "cb94be0b",
      "metadata": {
        "execution": {
          "iopub.execute_input": "2024-01-08T03:22:35.964321Z",
          "iopub.status.busy": "2024-01-08T03:22:35.963878Z",
          "iopub.status.idle": "2024-01-08T03:22:35.970944Z",
          "shell.execute_reply": "2024-01-08T03:22:35.969848Z"
        },
        "papermill": {
          "duration": 0.01996,
          "end_time": "2024-01-08T03:22:35.973451",
          "exception": false,
          "start_time": "2024-01-08T03:22:35.953491",
          "status": "completed"
        },
        "tags": [],
        "id": "cb94be0b"
      },
      "outputs": [],
      "source": [
        "df=df.drop(columns=[\"Id\"])"
      ]
    },
    {
      "cell_type": "code",
      "source": [
        "plt.figure(figsize=(12,10))\n",
        "corr = df.corr()\n",
        "sns.heatmap(corr, annot=True,cmap=plt.cm.CMRmap_r)\n",
        "plt.title('Correlation Between Features')\n",
        "plt.show();"
      ],
      "metadata": {
        "colab": {
          "base_uri": "https://localhost:8080/",
          "height": 1000
        },
        "id": "Pyhpda8RbjNb",
        "outputId": "e125e7be-11b0-46b9-9681-8d1443c0767f"
      },
      "id": "Pyhpda8RbjNb",
      "execution_count": 11,
      "outputs": [
        {
          "output_type": "display_data",
          "data": {
            "text/plain": [
              "<Figure size 1200x1000 with 2 Axes>"
            ],
            "image/png": "[encoded data removed]"
          },
          "metadata": {}
        }
      ]
    },
    {
      "cell_type": "code",
      "source": [],
      "metadata": {
        "id": "Rel3fD79bjKG"
      },
      "id": "Rel3fD79bjKG",
      "execution_count": null,
      "outputs": []
    },
    {
      "cell_type": "code",
      "source": [],
      "metadata": {
        "id": "DtUxJ0atbjGg"
      },
      "id": "DtUxJ0atbjGg",
      "execution_count": null,
      "outputs": []
    },
    {
      "cell_type": "code",
      "source": [],
      "metadata": {
        "id": "iSurbJuKbjCs"
      },
      "id": "iSurbJuKbjCs",
      "execution_count": null,
      "outputs": []
    },
    {
      "cell_type": "code",
      "execution_count": 12,
      "id": "e8565bdf",
      "metadata": {
        "execution": {
          "iopub.execute_input": "2024-01-08T03:22:35.994437Z",
          "iopub.status.busy": "2024-01-08T03:22:35.994053Z",
          "iopub.status.idle": "2024-01-08T03:22:35.999486Z",
          "shell.execute_reply": "2024-01-08T03:22:35.998445Z"
        },
        "papermill": {
          "duration": 0.01831,
          "end_time": "2024-01-08T03:22:36.001464",
          "exception": false,
          "start_time": "2024-01-08T03:22:35.983154",
          "status": "completed"
        },
        "tags": [],
        "id": "e8565bdf"
      },
      "outputs": [],
      "source": [
        "X=df.iloc[:,:-1]\n",
        "y=df.iloc[:,-1]"
      ]
    },
    {
      "cell_type": "code",
      "execution_count": 13,
      "id": "39e23032",
      "metadata": {
        "execution": {
          "iopub.execute_input": "2024-01-08T03:22:36.022338Z",
          "iopub.status.busy": "2024-01-08T03:22:36.022000Z",
          "iopub.status.idle": "2024-01-08T03:22:36.030147Z",
          "shell.execute_reply": "2024-01-08T03:22:36.028791Z"
        },
        "papermill": {
          "duration": 0.022037,
          "end_time": "2024-01-08T03:22:36.033164",
          "exception": false,
          "start_time": "2024-01-08T03:22:36.011127",
          "status": "completed"
        },
        "tags": [],
        "id": "39e23032"
      },
      "outputs": [],
      "source": [
        "X_train,X_test,y_train,y_test = train_test_split(X,y,test_size=0.2,random_state=2)\n"
      ]
    },
    {
      "cell_type": "code",
      "execution_count": 14,
      "id": "a6c13deb",
      "metadata": {
        "execution": {
          "iopub.execute_input": "2024-01-08T03:22:36.053476Z",
          "iopub.status.busy": "2024-01-08T03:22:36.053049Z",
          "iopub.status.idle": "2024-01-08T03:22:36.057183Z",
          "shell.execute_reply": "2024-01-08T03:22:36.056450Z"
        },
        "papermill": {
          "duration": 0.016914,
          "end_time": "2024-01-08T03:22:36.059586",
          "exception": false,
          "start_time": "2024-01-08T03:22:36.042672",
          "status": "completed"
        },
        "tags": [],
        "id": "a6c13deb"
      },
      "outputs": [],
      "source": [
        "# bc = BaggingClassifier(n_estimators=150, random_state=2)\n",
        "model =  XGBClassifier(random_state=42, n_jobs=1) # Parameter tree_method='gpu_hist' for XGBoost GPU\n"
      ]
    },
    {
      "cell_type": "code",
      "execution_count": 15,
      "id": "14a582d0",
      "metadata": {
        "execution": {
          "iopub.execute_input": "2024-01-08T03:22:36.079806Z",
          "iopub.status.busy": "2024-01-08T03:22:36.079467Z",
          "iopub.status.idle": "2024-01-08T03:22:37.099740Z",
          "shell.execute_reply": "2024-01-08T03:22:37.098878Z"
        },
        "papermill": {
          "duration": 1.032284,
          "end_time": "2024-01-08T03:22:37.101526",
          "exception": false,
          "start_time": "2024-01-08T03:22:36.069242",
          "status": "completed"
        },
        "tags": [],
        "colab": {
          "base_uri": "https://localhost:8080/",
          "height": 248
        },
        "id": "14a582d0",
        "outputId": "bed3121d-5cf4-4c3e-df31-286d7df59e7a"
      },
      "outputs": [
        {
          "output_type": "execute_result",
          "data": {
            "text/plain": [
              "XGBClassifier(base_score=None, booster=None, callbacks=None,\n",
              "              colsample_bylevel=None, colsample_bynode=None,\n",
              "              colsample_bytree=None, device=None, early_stopping_rounds=None,\n",
              "              enable_categorical=False, eval_metric=None, feature_types=None,\n",
              "              gamma=None, grow_policy=None, importance_type=None,\n",
              "              interaction_constraints=None, learning_rate=None, max_bin=None,\n",
              "              max_cat_threshold=None, max_cat_to_onehot=None,\n",
              "              max_delta_step=None, max_depth=None, max_leaves=None,\n",
              "              min_child_weight=None, missing=nan, monotone_constraints=None,\n",
              "              multi_strategy=None, n_estimators=None, n_jobs=1,\n",
              "              num_parallel_tree=None, random_state=42, ...)"
            ],
            "text/html": [
              "<style>#sk-container-id-1 {color: black;}#sk-container-id-1 pre{padding: 0;}#sk-container-id-1 div.sk-toggleable {background-color: white;}#sk-container-id-1 label.sk-toggleable__label {cursor: pointer;display: block;width: 100%;margin-bottom: 0;padding: 0.3em;box-sizing: border-box;text-align: center;}#sk-container-id-1 label.sk-toggleable__label-arrow:before {content: \"▸\";float: left;margin-right: 0.25em;color: #696969;}#sk-container-id-1 label.sk-toggleable__label-arrow:hover:before {color: black;}#sk-container-id-1 div.sk-estimator:hover label.sk-toggleable__label-arrow:before {color: black;}#sk-container-id-1 div.sk-toggleable__content {max-height: 0;max-width: 0;overflow: hidden;text-align: left;background-color: #f0f8ff;}#sk-container-id-1 div.sk-toggleable__content pre {margin: 0.2em;color: black;border-radius: 0.25em;background-color: #f0f8ff;}#sk-container-id-1 input.sk-toggleable__control:checked~div.sk-toggleable__content {max-height: 200px;max-width: 100%;overflow: auto;}#sk-container-id-1 input.sk-toggleable__control:checked~label.sk-toggleable__label-arrow:before {content: \"▾\";}#sk-container-id-1 div.sk-estimator input.sk-toggleable__control:checked~label.sk-toggleable__label {background-color: #d4ebff;}#sk-container-id-1 div.sk-label input.sk-toggleable__control:checked~label.sk-toggleable__label {background-color: #d4ebff;}#sk-container-id-1 input.sk-hidden--visually {border: 0;clip: rect(1px 1px 1px 1px);clip: rect(1px, 1px, 1px, 1px);height: 1px;margin: -1px;overflow: hidden;padding: 0;position: absolute;width: 1px;}#sk-container-id-1 div.sk-estimator {font-family: monospace;background-color: #f0f8ff;border: 1px dotted black;border-radius: 0.25em;box-sizing: border-box;margin-bottom: 0.5em;}#sk-container-id-1 div.sk-estimator:hover {background-color: #d4ebff;}#sk-container-id-1 div.sk-parallel-item::after {content: \"\";width: 100%;border-bottom: 1px solid gray;flex-grow: 1;}#sk-container-id-1 div.sk-label:hover label.sk-toggleable__label {background-color: #d4ebff;}#sk-container-id-1 div.sk-serial::before {content: \"\";position: absolute;border-left: 1px solid gray;box-sizing: border-box;top: 0;bottom: 0;left: 50%;z-index: 0;}#sk-container-id-1 div.sk-serial {display: flex;flex-direction: column;align-items: center;background-color: white;padding-right: 0.2em;padding-left: 0.2em;position: relative;}#sk-container-id-1 div.sk-item {position: relative;z-index: 1;}#sk-container-id-1 div.sk-parallel {display: flex;align-items: stretch;justify-content: center;background-color: white;position: relative;}#sk-container-id-1 div.sk-item::before, #sk-container-id-1 div.sk-parallel-item::before {content: \"\";position: absolute;border-left: 1px solid gray;box-sizing: border-box;top: 0;bottom: 0;left: 50%;z-index: -1;}#sk-container-id-1 div.sk-parallel-item {display: flex;flex-direction: column;z-index: 1;position: relative;background-color: white;}#sk-container-id-1 div.sk-parallel-item:first-child::after {align-self: flex-end;width: 50%;}#sk-container-id-1 div.sk-parallel-item:last-child::after {align-self: flex-start;width: 50%;}#sk-container-id-1 div.sk-parallel-item:only-child::after {width: 0;}#sk-container-id-1 div.sk-dashed-wrapped {border: 1px dashed gray;margin: 0 0.4em 0.5em 0.4em;box-sizing: border-box;padding-bottom: 0.4em;background-color: white;}#sk-container-id-1 div.sk-label label {font-family: monospace;font-weight: bold;display: inline-block;line-height: 1.2em;}#sk-container-id-1 div.sk-label-container {text-align: center;}#sk-container-id-1 div.sk-container {/* jupyter's `normalize.less` sets `[hidden] { display: none; }` but bootstrap.min.css set `[hidden] { display: none !important; }` so we also need the `!important` here to be able to override the default hidden behavior on the sphinx rendered scikit-learn.org. See: https://github.com/scikit-learn/scikit-learn/issues/21755 */display: inline-block !important;position: relative;}#sk-container-id-1 div.sk-text-repr-fallback {display: none;}</style><div id=\"sk-container-id-1\" class=\"sk-top-container\"><div class=\"sk-text-repr-fallback\"><pre>XGBClassifier(base_score=None, booster=None, callbacks=None,\n",
              "              colsample_bylevel=None, colsample_bynode=None,\n",
              "              colsample_bytree=None, device=None, early_stopping_rounds=None,\n",
              "              enable_categorical=False, eval_metric=None, feature_types=None,\n",
              "              gamma=None, grow_policy=None, importance_type=None,\n",
              "              interaction_constraints=None, learning_rate=None, max_bin=None,\n",
              "              max_cat_threshold=None, max_cat_to_onehot=None,\n",
              "              max_delta_step=None, max_depth=None, max_leaves=None,\n",
              "              min_child_weight=None, missing=nan, monotone_constraints=None,\n",
              "              multi_strategy=None, n_estimators=None, n_jobs=1,\n",
              "              num_parallel_tree=None, random_state=42, ...)</pre><b>In a Jupyter environment, please rerun this cell to show the HTML representation or trust the notebook. <br />On GitHub, the HTML representation is unable to render, please try loading this page with nbviewer.org.</b></div><div class=\"sk-container\" hidden><div class=\"sk-item\"><div class=\"sk-estimator sk-toggleable\"><input class=\"sk-toggleable__control sk-hidden--visually\" id=\"sk-estimator-id-1\" type=\"checkbox\" checked><label for=\"sk-estimator-id-1\" class=\"sk-toggleable__label sk-toggleable__label-arrow\">XGBClassifier</label><div class=\"sk-toggleable__content\"><pre>XGBClassifier(base_score=None, booster=None, callbacks=None,\n",
              "              colsample_bylevel=None, colsample_bynode=None,\n",
              "              colsample_bytree=None, device=None, early_stopping_rounds=None,\n",
              "              enable_categorical=False, eval_metric=None, feature_types=None,\n",
              "              gamma=None, grow_policy=None, importance_type=None,\n",
              "              interaction_constraints=None, learning_rate=None, max_bin=None,\n",
              "              max_cat_threshold=None, max_cat_to_onehot=None,\n",
              "              max_delta_step=None, max_depth=None, max_leaves=None,\n",
              "              min_child_weight=None, missing=nan, monotone_constraints=None,\n",
              "              multi_strategy=None, n_estimators=None, n_jobs=1,\n",
              "              num_parallel_tree=None, random_state=42, ...)</pre></div></div></div></div></div>"
            ]
          },
          "metadata": {},
          "execution_count": 15
        }
      ],
      "source": [
        "model.fit(X_train,y_train)"
      ]
    },
    {
      "cell_type": "code",
      "execution_count": 16,
      "id": "42045ad8",
      "metadata": {
        "execution": {
          "iopub.execute_input": "2024-01-08T03:22:37.123394Z",
          "iopub.status.busy": "2024-01-08T03:22:37.123035Z",
          "iopub.status.idle": "2024-01-08T03:22:37.154409Z",
          "shell.execute_reply": "2024-01-08T03:22:37.153381Z"
        },
        "papermill": {
          "duration": 0.045082,
          "end_time": "2024-01-08T03:22:37.156895",
          "exception": false,
          "start_time": "2024-01-08T03:22:37.111813",
          "status": "completed"
        },
        "tags": [],
        "id": "42045ad8"
      },
      "outputs": [],
      "source": [
        "y_pred = model.predict(X_test)"
      ]
    },
    {
      "cell_type": "code",
      "execution_count": 17,
      "id": "4ed4a1af",
      "metadata": {
        "execution": {
          "iopub.execute_input": "2024-01-08T03:22:37.178904Z",
          "iopub.status.busy": "2024-01-08T03:22:37.178563Z",
          "iopub.status.idle": "2024-01-08T03:22:37.191239Z",
          "shell.execute_reply": "2024-01-08T03:22:37.190327Z"
        },
        "papermill": {
          "duration": 0.026032,
          "end_time": "2024-01-08T03:22:37.193172",
          "exception": false,
          "start_time": "2024-01-08T03:22:37.167140",
          "status": "completed"
        },
        "tags": [],
        "colab": {
          "base_uri": "https://localhost:8080/"
        },
        "id": "4ed4a1af",
        "outputId": "f0cc68a7-55fa-41dc-bd6a-ab76e4069539"
      },
      "outputs": [
        {
          "output_type": "stream",
          "name": "stdout",
          "text": [
            "0.9891696750902527\n",
            "\n",
            "0.989010989010989\n",
            "\n",
            "[[368   2]\n",
            " [  4 180]]\n"
          ]
        }
      ],
      "source": [
        "print(accuracy_score(y_test,y_pred))\n",
        "print()\n",
        "print(precision_score(y_test,y_pred))\n",
        "print()\n",
        "print(confusion_matrix(y_test,y_pred))"
      ]
    },
    {
      "cell_type": "code",
      "source": [
        "CM = confusion_matrix(y_test,y_pred)\n",
        "\n",
        "\n",
        "f, ax = plt.subplots(figsize=(7,5))\n",
        "sns.heatmap(CM,annot = True, linewidths=0.5,linecolor=\"red\",fmt=\".0f\",ax=ax)\n",
        "plt.title(\"SVM Model\")\n",
        "plt.xlabel(\"Prediction(Ypred)\")\n",
        "plt.ylabel(\"Ytrue\")\n",
        "plt.show()"
      ],
      "metadata": {
        "colab": {
          "base_uri": "https://localhost:8080/",
          "height": 487
        },
        "id": "sA7vY3Hpq7tU",
        "outputId": "b6f69bde-fa7f-422d-c6cc-b6708e8b5b01"
      },
      "id": "sA7vY3Hpq7tU",
      "execution_count": 18,
      "outputs": [
        {
          "output_type": "display_data",
          "data": {
            "text/plain": [
              "<Figure size 700x500 with 2 Axes>"
            ],
            "image/png": "[encoded data removed]"
          },
          "metadata": {}
        }
      ]
    },
    {
      "cell_type": "code",
      "source": [
        "# ROC curve models\n",
        "\n",
        "# Importing library\n",
        "from sklearn.metrics import accuracy_score, roc_curve, roc_auc_score\n",
        "\n",
        "# Models to be evaluated\n",
        "models = [XGBClassifier(random_state=42)]\n",
        "\n",
        "# Evaluate each model\n",
        "\n",
        "model.fit(X_train, y_train)\n",
        "train_accuracy = accuracy_score(y_train, model.predict(X_train))\n",
        "test_accuracy = accuracy_score(y_test, model.predict(X_test))\n",
        "print(f\" {type(model).__name__}\")\n",
        "print(f\"Training Accuracy: {train_accuracy}\")\n",
        "print(f\"Testing Accuracy: {test_accuracy}\")\n",
        "\n",
        "# Calculate positive class probabilities\n",
        "y_probs = model.predict_proba(X_test)[:, 1]\n",
        "\n",
        "# Calculate the ROC curve\n",
        "fpr, tpr, thresholds = roc_curve(y_test, y_probs)\n",
        "\n",
        "# Calculate the area under the ROC curve (AUC)\n",
        "auc = roc_auc_score(y_test, y_probs)\n",
        "\n",
        "# Plot the ROC curve\n",
        "plt.figure()\n",
        "plt.plot(fpr, tpr, color='blue', lw=2, label=f'AUC = {auc:.2f}')\n",
        "plt.plot([0, 1], [0, 1], color='gray', linestyle='--')\n",
        "plt.xlim([0.0, 1.0])\n",
        "plt.ylim([0.0, 1.05])\n",
        "plt.xlabel('False Positive Rate')\n",
        "plt.ylabel('True Positive Rate')\n",
        "plt.title(f'ROC Curve - {type(model).__name__}')\n",
        "plt.legend(loc=\"lower right\")\n",
        "plt.grid(False)\n",
        "plt.show()\n",
        "\n",
        "print(\"------------------\")"
      ],
      "metadata": {
        "colab": {
          "base_uri": "https://localhost:8080/",
          "height": 541
        },
        "id": "bN93A_xLcXXe",
        "outputId": "e69e1254-3f9a-4ccb-e70f-8e13c3c3f6a6"
      },
      "id": "bN93A_xLcXXe",
      "execution_count": 19,
      "outputs": [
        {
          "output_type": "stream",
          "name": "stdout",
          "text": [
            " XGBClassifier\n",
            "Training Accuracy: 1.0\n",
            "Testing Accuracy: 0.9891696750902527\n"
          ]
        },
        {
          "output_type": "display_data",
          "data": {
            "text/plain": [
              "<Figure size 640x480 with 1 Axes>"
            ],
            "image/png": "[encoded data removed]"
          },
          "metadata": {}
        },
        {
          "output_type": "stream",
          "name": "stdout",
          "text": [
            "------------------\n"
          ]
        }
      ]
    },
    {
      "cell_type": "markdown",
      "source": [
        "--\n",
        "\n",
        "**ROC Curves XGBClassifier**\n",
        "  - **AUC:** 0.99\n",
        "  - The XGBoost model also shows strong performance with an AUC of 0.99\n",
        "\n"
      ],
      "metadata": {
        "id": "36V0ibEdf_9l"
      },
      "id": "36V0ibEdf_9l"
    },
    {
      "cell_type": "code",
      "source": [
        "import pickle\n",
        "# Dump the trained Naive Bayes classifier with Pickle\n",
        "KC_pkl_filename = '/content/drive/MyDrive/Jobs/Mr Dayo/DIABETES PREDICTION/XGBoost_model.pkl'\n",
        "\n",
        "# Open the file to save as pkl file\n",
        "KC_Model_pkl = open(KC_pkl_filename, 'wb')\n",
        "pickle.dump(model, KC_Model_pkl)\n",
        "\n",
        "# Close the pickle instances\n",
        "KC_Model_pkl.close()"
      ],
      "metadata": {
        "id": "uoFk8LkOrVfp"
      },
      "id": "uoFk8LkOrVfp",
      "execution_count": 26,
      "outputs": []
    },
    {
      "cell_type": "code",
      "source": [
        "print(xgboost.__version__)"
      ],
      "metadata": {
        "colab": {
          "base_uri": "https://localhost:8080/"
        },
        "id": "1_TyQDm6rsWe",
        "outputId": "c97f47c4-ace1-40dd-fcdd-7ae818329f5f"
      },
      "id": "1_TyQDm6rsWe",
      "execution_count": 31,
      "outputs": [
        {
          "output_type": "stream",
          "name": "stdout",
          "text": [
            "2.1.1\n"
          ]
        }
      ]
    },
    {
      "cell_type": "code",
      "source": [
        "import xgboost"
      ],
      "metadata": {
        "id": "rio5--iC2kIU"
      },
      "id": "rio5--iC2kIU",
      "execution_count": 30,
      "outputs": []
    },
    {
      "cell_type": "code",
      "source": [],
      "metadata": {
        "id": "YatSpyND21db"
      },
      "id": "YatSpyND21db",
      "execution_count": null,
      "outputs": []
    }
  ],
  "metadata": {
    "kaggle": {
      "accelerator": "none",
      "dataSources": [
        {
          "datasetId": 3659326,
          "sourceId": 6353627,
          "sourceType": "datasetVersion"
        }
      ],
      "dockerImageVersionId": 30527,
      "isGpuEnabled": false,
      "isInternetEnabled": true,
      "language": "python",
      "sourceType": "notebook"
    },
    "kernelspec": {
      "display_name": "Python 3",
      "name": "python3"
    },
    "language_info": {
      "codemirror_mode": {
        "name": "ipython",
        "version": 3
      },
      "file_extension": ".py",
      "mimetype": "text/x-python",
      "name": "python",
      "nbconvert_exporter": "python",
      "pygments_lexer": "ipython3",
      "version": "3.10.12"
    },
    "papermill": {
      "default_parameters": {},
      "duration": 14.217391,
      "end_time": "2024-01-08T03:22:38.143145",
      "environment_variables": {},
      "exception": null,
      "input_path": "__notebook__.ipynb",
      "output_path": "__notebook__.ipynb",
      "parameters": {},
      "start_time": "2024-01-08T03:22:23.925754",
      "version": "2.4.0"
    },
    "colab": {
      "provenance": [],
      "gpuType": "T4"
    },
    "accelerator": "GPU"
  },
  "nbformat": 4,
  "nbformat_minor": 5
}