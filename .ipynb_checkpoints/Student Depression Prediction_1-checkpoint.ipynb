{
 "cells": [
  {
   "cell_type": "markdown",
   "metadata": {},
   "source": [
    "<font color='blue' size='15'><b><center>Student Depression Prediction.</center></b></font>"
   ]
  },
  {
   "cell_type": "code",
   "execution_count": 1,
   "metadata": {},
   "outputs": [],
   "source": [
    "# importing necessay libraries\n",
    "import numpy as np  # for working and manipulating arrays\n",
    "import pandas as pd # used for viewing your data in a dataframe\n",
    "import seaborn as sns # used for visualizing your data \n",
    "import matplotlib.pyplot as plt # used for visualizing your data ."
   ]
  },
  {
   "cell_type": "code",
   "execution_count": 2,
   "metadata": {},
   "outputs": [
    {
     "data": {
      "text/html": [
       "<div>\n",
       "<style scoped>\n",
       "    .dataframe tbody tr th:only-of-type {\n",
       "        vertical-align: middle;\n",
       "    }\n",
       "\n",
       "    .dataframe tbody tr th {\n",
       "        vertical-align: top;\n",
       "    }\n",
       "\n",
       "    .dataframe thead th {\n",
       "        text-align: right;\n",
       "    }\n",
       "</style>\n",
       "<table border=\"1\" class=\"dataframe\">\n",
       "  <thead>\n",
       "    <tr style=\"text-align: right;\">\n",
       "      <th></th>\n",
       "      <th>Age_range</th>\n",
       "      <th>Level</th>\n",
       "      <th>Used_DPN_tools</th>\n",
       "      <th>Lack_interest</th>\n",
       "      <th>Trouble_sleepig</th>\n",
       "      <th>Feeling_tired</th>\n",
       "      <th>Poor_appetite</th>\n",
       "      <th>Feeling_bad</th>\n",
       "      <th>Trouble_concentrating</th>\n",
       "      <th>fidgety_or_restless</th>\n",
       "      <th>Thought_death</th>\n",
       "      <th>anxiety_attack</th>\n",
       "      <th>diagnosed_DPN_Past</th>\n",
       "      <th>Score</th>\n",
       "      <th>DPN_State</th>\n",
       "    </tr>\n",
       "  </thead>\n",
       "  <tbody>\n",
       "    <tr>\n",
       "      <th>0</th>\n",
       "      <td>21-25</td>\n",
       "      <td>400</td>\n",
       "      <td>Yes</td>\n",
       "      <td>1</td>\n",
       "      <td>1</td>\n",
       "      <td>1</td>\n",
       "      <td>1</td>\n",
       "      <td>0</td>\n",
       "      <td>0</td>\n",
       "      <td>0</td>\n",
       "      <td>0</td>\n",
       "      <td>No</td>\n",
       "      <td>No</td>\n",
       "      <td>4</td>\n",
       "      <td>Normal</td>\n",
       "    </tr>\n",
       "    <tr>\n",
       "      <th>1</th>\n",
       "      <td>21-25</td>\n",
       "      <td>400</td>\n",
       "      <td>No</td>\n",
       "      <td>1</td>\n",
       "      <td>0</td>\n",
       "      <td>1</td>\n",
       "      <td>0</td>\n",
       "      <td>1</td>\n",
       "      <td>3</td>\n",
       "      <td>0</td>\n",
       "      <td>0</td>\n",
       "      <td>Yes</td>\n",
       "      <td>No</td>\n",
       "      <td>7</td>\n",
       "      <td>Mild</td>\n",
       "    </tr>\n",
       "    <tr>\n",
       "      <th>2</th>\n",
       "      <td>21-25</td>\n",
       "      <td>400</td>\n",
       "      <td>No</td>\n",
       "      <td>1</td>\n",
       "      <td>1</td>\n",
       "      <td>1</td>\n",
       "      <td>0</td>\n",
       "      <td>1</td>\n",
       "      <td>1</td>\n",
       "      <td>1</td>\n",
       "      <td>0</td>\n",
       "      <td>No</td>\n",
       "      <td>No</td>\n",
       "      <td>7</td>\n",
       "      <td>Mild</td>\n",
       "    </tr>\n",
       "    <tr>\n",
       "      <th>3</th>\n",
       "      <td>21-25</td>\n",
       "      <td>100</td>\n",
       "      <td>No</td>\n",
       "      <td>0</td>\n",
       "      <td>0</td>\n",
       "      <td>0</td>\n",
       "      <td>0</td>\n",
       "      <td>1</td>\n",
       "      <td>0</td>\n",
       "      <td>0</td>\n",
       "      <td>0</td>\n",
       "      <td>No</td>\n",
       "      <td>No</td>\n",
       "      <td>1</td>\n",
       "      <td>Normal</td>\n",
       "    </tr>\n",
       "    <tr>\n",
       "      <th>4</th>\n",
       "      <td>21-25</td>\n",
       "      <td>400</td>\n",
       "      <td>No</td>\n",
       "      <td>0</td>\n",
       "      <td>0</td>\n",
       "      <td>0</td>\n",
       "      <td>0</td>\n",
       "      <td>0</td>\n",
       "      <td>1</td>\n",
       "      <td>0</td>\n",
       "      <td>0</td>\n",
       "      <td>No</td>\n",
       "      <td>No</td>\n",
       "      <td>1</td>\n",
       "      <td>Normal</td>\n",
       "    </tr>\n",
       "    <tr>\n",
       "      <th>...</th>\n",
       "      <td>...</td>\n",
       "      <td>...</td>\n",
       "      <td>...</td>\n",
       "      <td>...</td>\n",
       "      <td>...</td>\n",
       "      <td>...</td>\n",
       "      <td>...</td>\n",
       "      <td>...</td>\n",
       "      <td>...</td>\n",
       "      <td>...</td>\n",
       "      <td>...</td>\n",
       "      <td>...</td>\n",
       "      <td>...</td>\n",
       "      <td>...</td>\n",
       "      <td>...</td>\n",
       "    </tr>\n",
       "    <tr>\n",
       "      <th>725</th>\n",
       "      <td>21-25</td>\n",
       "      <td>400</td>\n",
       "      <td>NaN</td>\n",
       "      <td>3</td>\n",
       "      <td>2</td>\n",
       "      <td>0</td>\n",
       "      <td>3</td>\n",
       "      <td>0</td>\n",
       "      <td>1</td>\n",
       "      <td>3</td>\n",
       "      <td>2</td>\n",
       "      <td>No</td>\n",
       "      <td>No</td>\n",
       "      <td>14</td>\n",
       "      <td>Moderately severe</td>\n",
       "    </tr>\n",
       "    <tr>\n",
       "      <th>726</th>\n",
       "      <td>21-25</td>\n",
       "      <td>400</td>\n",
       "      <td>NaN</td>\n",
       "      <td>3</td>\n",
       "      <td>2</td>\n",
       "      <td>2</td>\n",
       "      <td>2</td>\n",
       "      <td>2</td>\n",
       "      <td>2</td>\n",
       "      <td>2</td>\n",
       "      <td>3</td>\n",
       "      <td>No</td>\n",
       "      <td>No</td>\n",
       "      <td>18</td>\n",
       "      <td>Severe</td>\n",
       "    </tr>\n",
       "    <tr>\n",
       "      <th>727</th>\n",
       "      <td>16-20</td>\n",
       "      <td>100</td>\n",
       "      <td>NaN</td>\n",
       "      <td>3</td>\n",
       "      <td>3</td>\n",
       "      <td>3</td>\n",
       "      <td>3</td>\n",
       "      <td>3</td>\n",
       "      <td>3</td>\n",
       "      <td>3</td>\n",
       "      <td>2</td>\n",
       "      <td>No</td>\n",
       "      <td>Yes</td>\n",
       "      <td>23</td>\n",
       "      <td>Severe</td>\n",
       "    </tr>\n",
       "    <tr>\n",
       "      <th>728</th>\n",
       "      <td>21-25</td>\n",
       "      <td>100</td>\n",
       "      <td>NaN</td>\n",
       "      <td>3</td>\n",
       "      <td>1</td>\n",
       "      <td>3</td>\n",
       "      <td>0</td>\n",
       "      <td>0</td>\n",
       "      <td>2</td>\n",
       "      <td>2</td>\n",
       "      <td>3</td>\n",
       "      <td>Yes</td>\n",
       "      <td>Yes</td>\n",
       "      <td>14</td>\n",
       "      <td>Moderately severe</td>\n",
       "    </tr>\n",
       "    <tr>\n",
       "      <th>729</th>\n",
       "      <td>16-20</td>\n",
       "      <td>300</td>\n",
       "      <td>NaN</td>\n",
       "      <td>3</td>\n",
       "      <td>3</td>\n",
       "      <td>2</td>\n",
       "      <td>3</td>\n",
       "      <td>1</td>\n",
       "      <td>1</td>\n",
       "      <td>1</td>\n",
       "      <td>1</td>\n",
       "      <td>Maybe</td>\n",
       "      <td>Maybe</td>\n",
       "      <td>15</td>\n",
       "      <td>Moderately severe</td>\n",
       "    </tr>\n",
       "  </tbody>\n",
       "</table>\n",
       "<p>730 rows × 15 columns</p>\n",
       "</div>"
      ],
      "text/plain": [
       "    Age_range  Level Used_DPN_tools  Lack_interest  Trouble_sleepig  \\\n",
       "0       21-25    400            Yes              1                1   \n",
       "1       21-25    400             No              1                0   \n",
       "2       21-25    400             No              1                1   \n",
       "3       21-25    100             No              0                0   \n",
       "4       21-25    400             No              0                0   \n",
       "..        ...    ...            ...            ...              ...   \n",
       "725     21-25    400            NaN              3                2   \n",
       "726     21-25    400            NaN              3                2   \n",
       "727     16-20    100            NaN              3                3   \n",
       "728     21-25    100            NaN              3                1   \n",
       "729     16-20    300            NaN              3                3   \n",
       "\n",
       "      Feeling_tired  Poor_appetite  Feeling_bad  Trouble_concentrating  \\\n",
       "0                 1              1            0                      0   \n",
       "1                 1              0            1                      3   \n",
       "2                 1              0            1                      1   \n",
       "3                 0              0            1                      0   \n",
       "4                 0              0            0                      1   \n",
       "..              ...            ...          ...                    ...   \n",
       "725               0              3            0                      1   \n",
       "726               2              2            2                      2   \n",
       "727               3              3            3                      3   \n",
       "728               3              0            0                      2   \n",
       "729               2              3            1                      1   \n",
       "\n",
       "     fidgety_or_restless  Thought_death anxiety_attack diagnosed_DPN_Past  \\\n",
       "0                      0              0             No                 No   \n",
       "1                      0              0            Yes                 No   \n",
       "2                      1              0             No                 No   \n",
       "3                      0              0             No                 No   \n",
       "4                      0              0             No                 No   \n",
       "..                   ...            ...            ...                ...   \n",
       "725                    3              2             No                 No   \n",
       "726                    2              3             No                 No   \n",
       "727                    3              2             No                Yes   \n",
       "728                    2              3            Yes                Yes   \n",
       "729                    1              1          Maybe              Maybe   \n",
       "\n",
       "     Score          DPN_State  \n",
       "0        4             Normal  \n",
       "1        7               Mild  \n",
       "2        7               Mild  \n",
       "3        1             Normal  \n",
       "4        1             Normal  \n",
       "..     ...                ...  \n",
       "725     14  Moderately severe  \n",
       "726     18             Severe  \n",
       "727     23             Severe  \n",
       "728     14  Moderately severe  \n",
       "729     15  Moderately severe  \n",
       "\n",
       "[730 rows x 15 columns]"
      ]
     },
     "execution_count": 2,
     "metadata": {},
     "output_type": "execute_result"
    }
   ],
   "source": [
    "# importing the  dataset\n",
    "data = pd.read_csv('Student Depression Survey.csv')\n",
    "data"
   ]
  },
  {
   "cell_type": "code",
   "execution_count": 3,
   "metadata": {},
   "outputs": [
    {
     "data": {
      "text/plain": [
       "0    229\n",
       "1    223\n",
       "3    147\n",
       "2    131\n",
       "Name: Trouble_sleepig, dtype: int64"
      ]
     },
     "execution_count": 3,
     "metadata": {},
     "output_type": "execute_result"
    }
   ],
   "source": [
    "data.Trouble_sleepig.value_counts()"
   ]
  },
  {
   "cell_type": "code",
   "execution_count": 4,
   "metadata": {},
   "outputs": [
    {
     "data": {
      "text/plain": [
       "Age_range                object\n",
       "Level                     int64\n",
       "Used_DPN_tools           object\n",
       "Lack_interest             int64\n",
       "Trouble_sleepig           int64\n",
       " Feeling_tired            int64\n",
       "Poor_appetite             int64\n",
       "Feeling_bad               int64\n",
       "Trouble_concentrating     int64\n",
       "fidgety_or_restless       int64\n",
       "Thought_death             int64\n",
       "anxiety_attack           object\n",
       "diagnosed_DPN_Past       object\n",
       "Score                     int64\n",
       "DPN_State                object\n",
       "dtype: object"
      ]
     },
     "execution_count": 4,
     "metadata": {},
     "output_type": "execute_result"
    }
   ],
   "source": [
    "data.dtypes"
   ]
  },
  {
   "cell_type": "code",
   "execution_count": 5,
   "metadata": {},
   "outputs": [],
   "source": [
    "# data['Level'] = data.loc[data['Level'] == ' '] = '400'"
   ]
  },
  {
   "cell_type": "code",
   "execution_count": 6,
   "metadata": {},
   "outputs": [
    {
     "data": {
      "text/plain": [
       "400    336\n",
       "100    172\n",
       "200    119\n",
       "300    103\n",
       "Name: Level, dtype: int64"
      ]
     },
     "execution_count": 6,
     "metadata": {},
     "output_type": "execute_result"
    }
   ],
   "source": [
    "data['Level'].value_counts()"
   ]
  },
  {
   "cell_type": "code",
   "execution_count": 7,
   "metadata": {},
   "outputs": [
    {
     "data": {
      "text/plain": [
       "Age_range                  0\n",
       "Level                      0\n",
       "Used_DPN_tools           352\n",
       "Lack_interest              0\n",
       "Trouble_sleepig            0\n",
       " Feeling_tired             0\n",
       "Poor_appetite              0\n",
       "Feeling_bad                0\n",
       "Trouble_concentrating      0\n",
       "fidgety_or_restless        0\n",
       "Thought_death              0\n",
       "anxiety_attack             0\n",
       "diagnosed_DPN_Past         0\n",
       "Score                      0\n",
       "DPN_State                  0\n",
       "dtype: int64"
      ]
     },
     "execution_count": 7,
     "metadata": {},
     "output_type": "execute_result"
    }
   ],
   "source": [
    "data.isnull().sum()"
   ]
  },
  {
   "cell_type": "code",
   "execution_count": 8,
   "metadata": {},
   "outputs": [
    {
     "data": {
      "text/plain": [
       "No       266\n",
       "Yes       74\n",
       "Maybe     38\n",
       "Name: Used_DPN_tools, dtype: int64"
      ]
     },
     "execution_count": 8,
     "metadata": {},
     "output_type": "execute_result"
    }
   ],
   "source": [
    "data['Used_DPN_tools'].value_counts()"
   ]
  },
  {
   "cell_type": "markdown",
   "metadata": {},
   "source": [
    "## Data Preprocessing"
   ]
  },
  {
   "cell_type": "code",
   "execution_count": 9,
   "metadata": {},
   "outputs": [
    {
     "name": "stderr",
     "output_type": "stream",
     "text": [
      "C:\\Users\\YASHIM~1\\AppData\\Local\\Temp/ipykernel_10400/4214191906.py:7: SettingWithCopyWarning: \n",
      "A value is trying to be set on a copy of a slice from a DataFrame.\n",
      "Try using .loc[row_indexer,col_indexer] = value instead\n",
      "\n",
      "See the caveats in the documentation: https://pandas.pydata.org/pandas-docs/stable/user_guide/indexing.html#returning-a-view-versus-a-copy\n",
      "  no_df['Used_DPN_tools'] = no_df.loc[no_df['Used_DPN_tools'].isnull()] = 'No'\n",
      "C:\\Users\\YASHIM GABRIEL\\anaconda3\\lib\\site-packages\\pandas\\core\\indexing.py:1817: SettingWithCopyWarning: \n",
      "A value is trying to be set on a copy of a slice from a DataFrame.\n",
      "Try using .loc[row_indexer,col_indexer] = value instead\n",
      "\n",
      "See the caveats in the documentation: https://pandas.pydata.org/pandas-docs/stable/user_guide/indexing.html#returning-a-view-versus-a-copy\n",
      "  self._setitem_single_column(loc, value, pi)\n",
      "C:\\Users\\YASHIM~1\\AppData\\Local\\Temp/ipykernel_10400/4214191906.py:13: SettingWithCopyWarning: \n",
      "A value is trying to be set on a copy of a slice from a DataFrame.\n",
      "Try using .loc[row_indexer,col_indexer] = value instead\n",
      "\n",
      "See the caveats in the documentation: https://pandas.pydata.org/pandas-docs/stable/user_guide/indexing.html#returning-a-view-versus-a-copy\n",
      "  yes_df['Used_DPN_tools'] = yes_df.loc[yes_df['Used_DPN_tools'].isnull()] = 'Yes'\n",
      "C:\\Users\\YASHIM~1\\AppData\\Local\\Temp/ipykernel_10400/4214191906.py:19: SettingWithCopyWarning: \n",
      "A value is trying to be set on a copy of a slice from a DataFrame.\n",
      "Try using .loc[row_indexer,col_indexer] = value instead\n",
      "\n",
      "See the caveats in the documentation: https://pandas.pydata.org/pandas-docs/stable/user_guide/indexing.html#returning-a-view-versus-a-copy\n",
      "  maybe_df['Used_DPN_tools'] = maybe_df.loc[maybe_df['Used_DPN_tools'].isnull()] = 'Maybe'\n"
     ]
    }
   ],
   "source": [
    "missing = data.loc[data['Used_DPN_tools'].isnull()]\n",
    "# missing\n",
    "\n",
    "no_df = missing.loc[missing['diagnosed_DPN_Past'] =='No']\n",
    "# no_df\n",
    "\n",
    "no_df['Used_DPN_tools'] = no_df.loc[no_df['Used_DPN_tools'].isnull()] = 'No'\n",
    "# no_df\n",
    "\n",
    "yes_df = missing.loc[missing['diagnosed_DPN_Past'] =='Yes']\n",
    "# yes_df\n",
    "\n",
    "yes_df['Used_DPN_tools'] = yes_df.loc[yes_df['Used_DPN_tools'].isnull()] = 'Yes'\n",
    "# yes_df\n",
    "\n",
    "maybe_df = missing.loc[missing['diagnosed_DPN_Past'] =='Maybe']\n",
    "# maybe_df.head()\n",
    "\n",
    "maybe_df['Used_DPN_tools'] = maybe_df.loc[maybe_df['Used_DPN_tools'].isnull()] = 'Maybe'\n",
    "# maybe_df\n",
    "\n",
    "filled = pd.concat([no_df,yes_df,maybe_df])\n",
    "filled.shape\n",
    "\n",
    "not_missing = data.loc[data['Used_DPN_tools'].notnull()]\n",
    "# not_missing"
   ]
  },
  {
   "cell_type": "code",
   "execution_count": 10,
   "metadata": {},
   "outputs": [
    {
     "data": {
      "text/plain": [
       "(730, 15)"
      ]
     },
     "execution_count": 10,
     "metadata": {},
     "output_type": "execute_result"
    }
   ],
   "source": [
    "new_data = pd.concat([not_missing,filled])\n",
    "new_data.shape"
   ]
  },
  {
   "cell_type": "code",
   "execution_count": 11,
   "metadata": {},
   "outputs": [
    {
     "data": {
      "text/plain": [
       "Age_range                0\n",
       "Level                    0\n",
       "Used_DPN_tools           0\n",
       "Lack_interest            0\n",
       "Trouble_sleepig          0\n",
       " Feeling_tired           0\n",
       "Poor_appetite            0\n",
       "Feeling_bad              0\n",
       "Trouble_concentrating    0\n",
       "fidgety_or_restless      0\n",
       "Thought_death            0\n",
       "anxiety_attack           0\n",
       "diagnosed_DPN_Past       0\n",
       "Score                    0\n",
       "DPN_State                0\n",
       "dtype: int64"
      ]
     },
     "execution_count": 11,
     "metadata": {},
     "output_type": "execute_result"
    }
   ],
   "source": [
    "new_data.isnull().sum()"
   ]
  },
  {
   "cell_type": "code",
   "execution_count": 12,
   "metadata": {},
   "outputs": [
    {
     "name": "stdout",
     "output_type": "stream",
     "text": [
      "<class 'pandas.core.frame.DataFrame'>\n",
      "Int64Index: 730 entries, 0 to 729\n",
      "Data columns (total 15 columns):\n",
      " #   Column                 Non-Null Count  Dtype \n",
      "---  ------                 --------------  ----- \n",
      " 0   Age_range              730 non-null    object\n",
      " 1   Level                  730 non-null    object\n",
      " 2   Used_DPN_tools         730 non-null    object\n",
      " 3   Lack_interest          730 non-null    object\n",
      " 4   Trouble_sleepig        730 non-null    object\n",
      " 5    Feeling_tired         730 non-null    object\n",
      " 6   Poor_appetite          730 non-null    object\n",
      " 7   Feeling_bad            730 non-null    object\n",
      " 8   Trouble_concentrating  730 non-null    object\n",
      " 9   fidgety_or_restless    730 non-null    object\n",
      " 10  Thought_death          730 non-null    object\n",
      " 11  anxiety_attack         730 non-null    object\n",
      " 12  diagnosed_DPN_Past     730 non-null    object\n",
      " 13  Score                  730 non-null    object\n",
      " 14  DPN_State              730 non-null    object\n",
      "dtypes: object(15)\n",
      "memory usage: 91.2+ KB\n"
     ]
    }
   ],
   "source": [
    "new_data.info()"
   ]
  },
  {
   "cell_type": "code",
   "execution_count": 13,
   "metadata": {},
   "outputs": [
    {
     "data": {
      "text/html": [
       "<div>\n",
       "<style scoped>\n",
       "    .dataframe tbody tr th:only-of-type {\n",
       "        vertical-align: middle;\n",
       "    }\n",
       "\n",
       "    .dataframe tbody tr th {\n",
       "        vertical-align: top;\n",
       "    }\n",
       "\n",
       "    .dataframe thead th {\n",
       "        text-align: right;\n",
       "    }\n",
       "</style>\n",
       "<table border=\"1\" class=\"dataframe\">\n",
       "  <thead>\n",
       "    <tr style=\"text-align: right;\">\n",
       "      <th></th>\n",
       "      <th>Age_range</th>\n",
       "      <th>Level</th>\n",
       "      <th>Used_DPN_tools</th>\n",
       "      <th>Lack_interest</th>\n",
       "      <th>Trouble_sleepig</th>\n",
       "      <th>Feeling_tired</th>\n",
       "      <th>Poor_appetite</th>\n",
       "      <th>Feeling_bad</th>\n",
       "      <th>Trouble_concentrating</th>\n",
       "      <th>fidgety_or_restless</th>\n",
       "      <th>Thought_death</th>\n",
       "      <th>anxiety_attack</th>\n",
       "      <th>diagnosed_DPN_Past</th>\n",
       "      <th>Score</th>\n",
       "      <th>DPN_State</th>\n",
       "    </tr>\n",
       "  </thead>\n",
       "  <tbody>\n",
       "    <tr>\n",
       "      <th>0</th>\n",
       "      <td>21-25</td>\n",
       "      <td>400</td>\n",
       "      <td>Yes</td>\n",
       "      <td>1</td>\n",
       "      <td>1</td>\n",
       "      <td>1</td>\n",
       "      <td>1</td>\n",
       "      <td>0</td>\n",
       "      <td>0</td>\n",
       "      <td>0</td>\n",
       "      <td>0</td>\n",
       "      <td>No</td>\n",
       "      <td>No</td>\n",
       "      <td>4</td>\n",
       "      <td>Normal</td>\n",
       "    </tr>\n",
       "    <tr>\n",
       "      <th>1</th>\n",
       "      <td>21-25</td>\n",
       "      <td>400</td>\n",
       "      <td>No</td>\n",
       "      <td>1</td>\n",
       "      <td>0</td>\n",
       "      <td>1</td>\n",
       "      <td>0</td>\n",
       "      <td>1</td>\n",
       "      <td>3</td>\n",
       "      <td>0</td>\n",
       "      <td>0</td>\n",
       "      <td>Yes</td>\n",
       "      <td>No</td>\n",
       "      <td>7</td>\n",
       "      <td>Mild</td>\n",
       "    </tr>\n",
       "    <tr>\n",
       "      <th>2</th>\n",
       "      <td>21-25</td>\n",
       "      <td>400</td>\n",
       "      <td>No</td>\n",
       "      <td>1</td>\n",
       "      <td>1</td>\n",
       "      <td>1</td>\n",
       "      <td>0</td>\n",
       "      <td>1</td>\n",
       "      <td>1</td>\n",
       "      <td>1</td>\n",
       "      <td>0</td>\n",
       "      <td>No</td>\n",
       "      <td>No</td>\n",
       "      <td>7</td>\n",
       "      <td>Mild</td>\n",
       "    </tr>\n",
       "    <tr>\n",
       "      <th>3</th>\n",
       "      <td>21-25</td>\n",
       "      <td>100</td>\n",
       "      <td>No</td>\n",
       "      <td>0</td>\n",
       "      <td>0</td>\n",
       "      <td>0</td>\n",
       "      <td>0</td>\n",
       "      <td>1</td>\n",
       "      <td>0</td>\n",
       "      <td>0</td>\n",
       "      <td>0</td>\n",
       "      <td>No</td>\n",
       "      <td>No</td>\n",
       "      <td>1</td>\n",
       "      <td>Normal</td>\n",
       "    </tr>\n",
       "    <tr>\n",
       "      <th>4</th>\n",
       "      <td>21-25</td>\n",
       "      <td>400</td>\n",
       "      <td>No</td>\n",
       "      <td>0</td>\n",
       "      <td>0</td>\n",
       "      <td>0</td>\n",
       "      <td>0</td>\n",
       "      <td>0</td>\n",
       "      <td>1</td>\n",
       "      <td>0</td>\n",
       "      <td>0</td>\n",
       "      <td>No</td>\n",
       "      <td>No</td>\n",
       "      <td>1</td>\n",
       "      <td>Normal</td>\n",
       "    </tr>\n",
       "  </tbody>\n",
       "</table>\n",
       "</div>"
      ],
      "text/plain": [
       "  Age_range Level Used_DPN_tools Lack_interest Trouble_sleepig  Feeling_tired  \\\n",
       "0     21-25   400            Yes             1               1              1   \n",
       "1     21-25   400             No             1               0              1   \n",
       "2     21-25   400             No             1               1              1   \n",
       "3     21-25   100             No             0               0              0   \n",
       "4     21-25   400             No             0               0              0   \n",
       "\n",
       "  Poor_appetite Feeling_bad Trouble_concentrating fidgety_or_restless  \\\n",
       "0             1           0                     0                   0   \n",
       "1             0           1                     3                   0   \n",
       "2             0           1                     1                   1   \n",
       "3             0           1                     0                   0   \n",
       "4             0           0                     1                   0   \n",
       "\n",
       "  Thought_death anxiety_attack diagnosed_DPN_Past Score DPN_State  \n",
       "0             0             No                 No     4    Normal  \n",
       "1             0            Yes                 No     7      Mild  \n",
       "2             0             No                 No     7      Mild  \n",
       "3             0             No                 No     1    Normal  \n",
       "4             0             No                 No     1    Normal  "
      ]
     },
     "execution_count": 13,
     "metadata": {},
     "output_type": "execute_result"
    }
   ],
   "source": [
    "new_data.head() "
   ]
  },
  {
   "cell_type": "code",
   "execution_count": 15,
   "metadata": {},
   "outputs": [],
   "source": [
    "new_data[['Level', 'Lack_interest',\n",
    "       'Trouble_sleepig', ' Feeling_tired', 'Poor_appetite', 'Feeling_bad',\n",
    "       'Trouble_concentrating', 'fidgety_or_restless', 'Thought_death', 'Score']]=new_data[['Level', 'Lack_interest',\n",
    "       'Trouble_sleepig', ' Feeling_tired', 'Poor_appetite', 'Feeling_bad',\n",
    "       'Trouble_concentrating', 'fidgety_or_restless', 'Thought_death', 'Score']].astype(int)"
   ]
  },
  {
   "cell_type": "code",
   "execution_count": 16,
   "metadata": {},
   "outputs": [
    {
     "name": "stdout",
     "output_type": "stream",
     "text": [
      "<class 'pandas.core.frame.DataFrame'>\n",
      "Int64Index: 730 entries, 0 to 729\n",
      "Data columns (total 15 columns):\n",
      " #   Column                 Non-Null Count  Dtype \n",
      "---  ------                 --------------  ----- \n",
      " 0   Age_range              730 non-null    object\n",
      " 1   Level                  730 non-null    int32 \n",
      " 2   Used_DPN_tools         730 non-null    object\n",
      " 3   Lack_interest          730 non-null    int32 \n",
      " 4   Trouble_sleepig        730 non-null    int32 \n",
      " 5    Feeling_tired         730 non-null    int32 \n",
      " 6   Poor_appetite          730 non-null    int32 \n",
      " 7   Feeling_bad            730 non-null    int32 \n",
      " 8   Trouble_concentrating  730 non-null    int32 \n",
      " 9   fidgety_or_restless    730 non-null    int32 \n",
      " 10  Thought_death          730 non-null    int32 \n",
      " 11  anxiety_attack         730 non-null    object\n",
      " 12  diagnosed_DPN_Past     730 non-null    object\n",
      " 13  Score                  730 non-null    int32 \n",
      " 14  DPN_State              730 non-null    object\n",
      "dtypes: int32(10), object(5)\n",
      "memory usage: 62.7+ KB\n"
     ]
    }
   ],
   "source": [
    "new_data.info()"
   ]
  },
  {
   "cell_type": "code",
   "execution_count": 12,
   "metadata": {},
   "outputs": [],
   "source": [
    "# a = pd.DataFrame(new_data).to_csv('Student Depression Prediction1.csv', index=False)"
   ]
  },
  {
   "cell_type": "code",
   "execution_count": 17,
   "metadata": {},
   "outputs": [
    {
     "name": "stdout",
     "output_type": "stream",
     "text": [
      "['Age_range', 'Level', 'Used_DPN_tools', 'Lack_interest', 'Trouble_sleepig', ' Feeling_tired', 'Poor_appetite', 'Feeling_bad', 'Trouble_concentrating', 'fidgety_or_restless', 'Thought_death', 'anxiety_attack', 'diagnosed_DPN_Past', 'Score', 'DPN_State']\n"
     ]
    }
   ],
   "source": [
    "print(list(data))"
   ]
  },
  {
   "cell_type": "markdown",
   "metadata": {},
   "source": [
    "## Data Visualization and EDA"
   ]
  },
  {
   "cell_type": "code",
   "execution_count": 18,
   "metadata": {},
   "outputs": [
    {
     "name": "stderr",
     "output_type": "stream",
     "text": [
      "C:\\Users\\YASHIM GABRIEL\\anaconda3\\lib\\site-packages\\seaborn\\_decorators.py:36: FutureWarning: Pass the following variable as a keyword arg: x. From version 0.12, the only valid positional argument will be `data`, and passing other arguments without an explicit keyword will result in an error or misinterpretation.\n",
      "  warnings.warn(\n"
     ]
    },
    {
     "data": {
      "image/png": "[encoded data removed]",
      "text/plain": [
       "<Figure size 432x288 with 1 Axes>"
      ]
     },
     "metadata": {
      "needs_background": "light"
     },
     "output_type": "display_data"
    }
   ],
   "source": [
    "sns.countplot(new_data.Age_range)\n",
    "plt.xlabel(\"Age Range\")\n",
    "plt.ylabel(\"Number of Occurence\")\n",
    "plt.title(\"Distribution of the Age Range of the Students\")\n",
    "plt.show()"
   ]
  },
  {
   "cell_type": "code",
   "execution_count": 19,
   "metadata": {},
   "outputs": [
    {
     "name": "stderr",
     "output_type": "stream",
     "text": [
      "C:\\Users\\YASHIM GABRIEL\\anaconda3\\lib\\site-packages\\seaborn\\_decorators.py:36: FutureWarning: Pass the following variable as a keyword arg: x. From version 0.12, the only valid positional argument will be `data`, and passing other arguments without an explicit keyword will result in an error or misinterpretation.\n",
      "  warnings.warn(\n"
     ]
    },
    {
     "data": {
      "image/png": "[encoded data removed]",
      "text/plain": [
       "<Figure size 720x360 with 1 Axes>"
      ]
     },
     "metadata": {
      "needs_background": "light"
     },
     "output_type": "display_data"
    }
   ],
   "source": [
    "plt.figure(figsize=(10,5))\n",
    "sns.countplot(new_data.DPN_State)\n",
    "plt.xlabel(\"Degree of Depression\")\n",
    "plt.ylabel(\"Number of Occurence\")\n",
    "plt.title(\"Distribution of the Degree of Depression in the data\")\n",
    "plt.show()"
   ]
  },
  {
   "cell_type": "code",
   "execution_count": 20,
   "metadata": {},
   "outputs": [
    {
     "data": {
      "text/plain": [
       "Moderate             230\n",
       "Moderately severe    184\n",
       "Mild                 148\n",
       "Normal               111\n",
       "Severe                57\n",
       "Name: DPN_State, dtype: int64"
      ]
     },
     "execution_count": 20,
     "metadata": {},
     "output_type": "execute_result"
    }
   ],
   "source": [
    "new_data['DPN_State'].value_counts()"
   ]
  },
  {
   "cell_type": "code",
   "execution_count": 21,
   "metadata": {},
   "outputs": [
    {
     "name": "stderr",
     "output_type": "stream",
     "text": [
      "C:\\Users\\YASHIM GABRIEL\\anaconda3\\lib\\site-packages\\seaborn\\_decorators.py:36: FutureWarning: Pass the following variable as a keyword arg: x. From version 0.12, the only valid positional argument will be `data`, and passing other arguments without an explicit keyword will result in an error or misinterpretation.\n",
      "  warnings.warn(\n"
     ]
    },
    {
     "data": {
      "image/png": "[encoded data removed]",
      "text/plain": [
       "<Figure size 936x360 with 1 Axes>"
      ]
     },
     "metadata": {
      "needs_background": "light"
     },
     "output_type": "display_data"
    }
   ],
   "source": [
    "plt.figure(figsize=(13,5))\n",
    "sns.countplot(new_data.Score)\n",
    "plt.xlabel(\"Degree of Depression\")\n",
    "plt.ylabel(\"Number of Occurence\")\n",
    "plt.title(\"Distribution of the Degree of Depression in the data\")\n",
    "plt.show()"
   ]
  },
  {
   "cell_type": "code",
   "execution_count": 22,
   "metadata": {},
   "outputs": [
    {
     "data": {
      "text/plain": [
       "11    66\n",
       "14    56\n",
       "12    53\n",
       "13    51\n",
       "9     51\n",
       "8     50\n",
       "10    44\n",
       "15    40\n",
       "6     38\n",
       "7     36\n",
       "3     30\n",
       "5     28\n",
       "4     25\n",
       "1     25\n",
       "17    22\n",
       "2     21\n",
       "0     20\n",
       "16    20\n",
       "18    17\n",
       "20    10\n",
       "19    10\n",
       "23     6\n",
       "21     5\n",
       "22     4\n",
       "24     2\n",
       "Name: Score, dtype: int64"
      ]
     },
     "execution_count": 22,
     "metadata": {},
     "output_type": "execute_result"
    }
   ],
   "source": [
    "new_data['Score'].value_counts()"
   ]
  },
  {
   "cell_type": "code",
   "execution_count": 23,
   "metadata": {},
   "outputs": [
    {
     "data": {
      "text/plain": [
       "[]"
      ]
     },
     "execution_count": 23,
     "metadata": {},
     "output_type": "execute_result"
    },
    {
     "data": {
      "image/png": "[encoded data removed]",
      "text/plain": [
       "<Figure size 432x288 with 1 Axes>"
      ]
     },
     "metadata": {
      "needs_background": "light"
     },
     "output_type": "display_data"
    }
   ],
   "source": [
    "# plt.figure(figsize=(22,10))\n",
    "sns.barplot(y = 'Thought_death', x = 'Age_range', data = new_data)\n",
    "plt.title(\"THE RELATIONSHIP BETWEEN THE DEGREE OF DEPRESSION AND THE AGE RANGE\")\n",
    "plt.plot()"
   ]
  },
  {
   "cell_type": "code",
   "execution_count": 24,
   "metadata": {},
   "outputs": [
    {
     "data": {
      "text/plain": [
       "1    306\n",
       "0    281\n",
       "2     88\n",
       "3     55\n",
       "Name: Thought_death, dtype: int64"
      ]
     },
     "execution_count": 24,
     "metadata": {},
     "output_type": "execute_result"
    }
   ],
   "source": [
    "new_data['Thought_death'].value_counts()"
   ]
  },
  {
   "cell_type": "code",
   "execution_count": 25,
   "metadata": {},
   "outputs": [
    {
     "data": {
      "image/png": "[encoded data removed]",
      "text/plain": [
       "<Figure size 432x432 with 1 Axes>"
      ]
     },
     "metadata": {},
     "output_type": "display_data"
    }
   ],
   "source": [
    "plt.figure(figsize = (6,6))\n",
    "segment = new_data['DPN_State'].value_counts()\n",
    "segment_label = new_data['DPN_State'].unique()\n",
    "color = ('green', \"LightBlue\" , 'LightPink','LightGreen','red')\n",
    "\n",
    "plt.pie(segment,\n",
    "       autopct = '%1.1f%%',\n",
    "       labels = segment_label,\n",
    "       explode = (0.06,0.05,0.05,0.07,0.08),\n",
    "       shadow = True,\n",
    "       colors = color);"
   ]
  },
  {
   "cell_type": "code",
   "execution_count": 26,
   "metadata": {},
   "outputs": [
    {
     "data": {
      "text/plain": [
       "Text(0.5, 1.0, 'THE DISTRIBUTION OF THE NUMBER OF STUDENTS WITH ANXIETY')"
      ]
     },
     "execution_count": 26,
     "metadata": {},
     "output_type": "execute_result"
    },
    {
     "data": {
      "image/png": "[encoded data removed]",
      "text/plain": [
       "<Figure size 1080x360 with 1 Axes>"
      ]
     },
     "metadata": {
      "needs_background": "light"
     },
     "output_type": "display_data"
    }
   ],
   "source": [
    "sns.catplot(data=new_data,x=\"anxiety_attack\",aspect=3,kind='count')\n",
    "plt.title(\"THE DISTRIBUTION OF THE NUMBER OF STUDENTS WITH ANXIETY\")"
   ]
  },
  {
   "cell_type": "code",
   "execution_count": 27,
   "metadata": {},
   "outputs": [
    {
     "data": {
      "text/plain": [
       "No       359\n",
       "Yes      266\n",
       "Maybe    105\n",
       "Name: anxiety_attack, dtype: int64"
      ]
     },
     "execution_count": 27,
     "metadata": {},
     "output_type": "execute_result"
    }
   ],
   "source": [
    "new_data['anxiety_attack'].value_counts()"
   ]
  },
  {
   "cell_type": "code",
   "execution_count": 28,
   "metadata": {},
   "outputs": [
    {
     "data": {
      "image/png": "[encoded data removed]",
      "text/plain": [
       "<Figure size 1080x504 with 2 Axes>"
      ]
     },
     "metadata": {
      "needs_background": "light"
     },
     "output_type": "display_data"
    }
   ],
   "source": [
    "plt.figure(figsize=(15,7))\n",
    "corr = new_data.corr()\n",
    "sns.heatmap(corr, annot=True,cmap=plt.cm.CMRmap_r)\n",
    "plt.title(\"CORRELATION BETWEEN THE FEATURES IN THE DATASET\")\n",
    "plt.show()"
   ]
  },
  {
   "cell_type": "code",
   "execution_count": 29,
   "metadata": {},
   "outputs": [],
   "source": [
    "x = new_data.drop(['DPN_State'],axis=1)\n",
    "y = new_data['DPN_State']"
   ]
  },
  {
   "cell_type": "code",
   "execution_count": 30,
   "metadata": {},
   "outputs": [],
   "source": [
    "from sklearn.preprocessing import LabelEncoder"
   ]
  },
  {
   "cell_type": "code",
   "execution_count": 31,
   "metadata": {},
   "outputs": [
    {
     "name": "stdout",
     "output_type": "stream",
     "text": [
      "<class 'pandas.core.frame.DataFrame'>\n",
      "Int64Index: 730 entries, 0 to 729\n",
      "Data columns (total 14 columns):\n",
      " #   Column                 Non-Null Count  Dtype \n",
      "---  ------                 --------------  ----- \n",
      " 0   Age_range              730 non-null    object\n",
      " 1   Level                  730 non-null    int32 \n",
      " 2   Used_DPN_tools         730 non-null    object\n",
      " 3   Lack_interest          730 non-null    int32 \n",
      " 4   Trouble_sleepig        730 non-null    int32 \n",
      " 5    Feeling_tired         730 non-null    int32 \n",
      " 6   Poor_appetite          730 non-null    int32 \n",
      " 7   Feeling_bad            730 non-null    int32 \n",
      " 8   Trouble_concentrating  730 non-null    int32 \n",
      " 9   fidgety_or_restless    730 non-null    int32 \n",
      " 10  Thought_death          730 non-null    int32 \n",
      " 11  anxiety_attack         730 non-null    object\n",
      " 12  diagnosed_DPN_Past     730 non-null    object\n",
      " 13  Score                  730 non-null    int32 \n",
      "dtypes: int32(10), object(4)\n",
      "memory usage: 73.2+ KB\n"
     ]
    }
   ],
   "source": [
    "x.info()"
   ]
  },
  {
   "cell_type": "code",
   "execution_count": 32,
   "metadata": {},
   "outputs": [
    {
     "name": "stdout",
     "output_type": "stream",
     "text": [
      "Age_range:  \n",
      " 21-25    410\n",
      "16-20    254\n",
      "26-30     32\n",
      "30-35     20\n",
      "35-30     14\n",
      "Name: Age_range, dtype: int64 \n",
      "\n",
      "Used_DPN_tools:  \n",
      " No       455\n",
      "Yes      196\n",
      "Maybe     79\n",
      "Name: Used_DPN_tools, dtype: int64 \n",
      "\n",
      "anxiety_attack:  \n",
      " No       359\n",
      "Yes      266\n",
      "Maybe    105\n",
      "Name: anxiety_attack, dtype: int64 \n",
      "\n",
      "diagnosed_DPN_Past:  \n",
      " No       511\n",
      "Yes      163\n",
      "Maybe     56\n",
      "Name: diagnosed_DPN_Past, dtype: int64 \n",
      "\n"
     ]
    }
   ],
   "source": [
    "print('Age_range: ','\\n',x['Age_range'].value_counts(),'\\n')\n",
    "\n",
    "print('Used_DPN_tools: ','\\n',x['Used_DPN_tools'].value_counts(),'\\n')\n",
    "\n",
    "print('anxiety_attack: ','\\n',x['anxiety_attack'].value_counts(),'\\n')\n",
    "\n",
    "print('diagnosed_DPN_Past: ','\\n',x['diagnosed_DPN_Past'].value_counts(),'\\n')"
   ]
  },
  {
   "cell_type": "code",
   "execution_count": 33,
   "metadata": {},
   "outputs": [],
   "source": [
    "le = LabelEncoder()\n",
    "\n",
    "x.loc[:,['Age_range','Used_DPN_tools','anxiety_attack','diagnosed_DPN_Past']] = \\\n",
    "x.loc[:,['Age_range','Used_DPN_tools','anxiety_attack','diagnosed_DPN_Past']].apply(le.fit_transform)"
   ]
  },
  {
   "cell_type": "code",
   "execution_count": 34,
   "metadata": {},
   "outputs": [
    {
     "data": {
      "text/html": [
       "<div>\n",
       "<style scoped>\n",
       "    .dataframe tbody tr th:only-of-type {\n",
       "        vertical-align: middle;\n",
       "    }\n",
       "\n",
       "    .dataframe tbody tr th {\n",
       "        vertical-align: top;\n",
       "    }\n",
       "\n",
       "    .dataframe thead th {\n",
       "        text-align: right;\n",
       "    }\n",
       "</style>\n",
       "<table border=\"1\" class=\"dataframe\">\n",
       "  <thead>\n",
       "    <tr style=\"text-align: right;\">\n",
       "      <th></th>\n",
       "      <th>Age_range</th>\n",
       "      <th>Level</th>\n",
       "      <th>Used_DPN_tools</th>\n",
       "      <th>Lack_interest</th>\n",
       "      <th>Trouble_sleepig</th>\n",
       "      <th>Feeling_tired</th>\n",
       "      <th>Poor_appetite</th>\n",
       "      <th>Feeling_bad</th>\n",
       "      <th>Trouble_concentrating</th>\n",
       "      <th>fidgety_or_restless</th>\n",
       "      <th>Thought_death</th>\n",
       "      <th>anxiety_attack</th>\n",
       "      <th>diagnosed_DPN_Past</th>\n",
       "      <th>Score</th>\n",
       "    </tr>\n",
       "  </thead>\n",
       "  <tbody>\n",
       "    <tr>\n",
       "      <th>0</th>\n",
       "      <td>1</td>\n",
       "      <td>400</td>\n",
       "      <td>2</td>\n",
       "      <td>1</td>\n",
       "      <td>1</td>\n",
       "      <td>1</td>\n",
       "      <td>1</td>\n",
       "      <td>0</td>\n",
       "      <td>0</td>\n",
       "      <td>0</td>\n",
       "      <td>0</td>\n",
       "      <td>1</td>\n",
       "      <td>1</td>\n",
       "      <td>4</td>\n",
       "    </tr>\n",
       "    <tr>\n",
       "      <th>1</th>\n",
       "      <td>1</td>\n",
       "      <td>400</td>\n",
       "      <td>1</td>\n",
       "      <td>1</td>\n",
       "      <td>0</td>\n",
       "      <td>1</td>\n",
       "      <td>0</td>\n",
       "      <td>1</td>\n",
       "      <td>3</td>\n",
       "      <td>0</td>\n",
       "      <td>0</td>\n",
       "      <td>2</td>\n",
       "      <td>1</td>\n",
       "      <td>7</td>\n",
       "    </tr>\n",
       "    <tr>\n",
       "      <th>2</th>\n",
       "      <td>1</td>\n",
       "      <td>400</td>\n",
       "      <td>1</td>\n",
       "      <td>1</td>\n",
       "      <td>1</td>\n",
       "      <td>1</td>\n",
       "      <td>0</td>\n",
       "      <td>1</td>\n",
       "      <td>1</td>\n",
       "      <td>1</td>\n",
       "      <td>0</td>\n",
       "      <td>1</td>\n",
       "      <td>1</td>\n",
       "      <td>7</td>\n",
       "    </tr>\n",
       "    <tr>\n",
       "      <th>3</th>\n",
       "      <td>1</td>\n",
       "      <td>100</td>\n",
       "      <td>1</td>\n",
       "      <td>0</td>\n",
       "      <td>0</td>\n",
       "      <td>0</td>\n",
       "      <td>0</td>\n",
       "      <td>1</td>\n",
       "      <td>0</td>\n",
       "      <td>0</td>\n",
       "      <td>0</td>\n",
       "      <td>1</td>\n",
       "      <td>1</td>\n",
       "      <td>1</td>\n",
       "    </tr>\n",
       "    <tr>\n",
       "      <th>4</th>\n",
       "      <td>1</td>\n",
       "      <td>400</td>\n",
       "      <td>1</td>\n",
       "      <td>0</td>\n",
       "      <td>0</td>\n",
       "      <td>0</td>\n",
       "      <td>0</td>\n",
       "      <td>0</td>\n",
       "      <td>1</td>\n",
       "      <td>0</td>\n",
       "      <td>0</td>\n",
       "      <td>1</td>\n",
       "      <td>1</td>\n",
       "      <td>1</td>\n",
       "    </tr>\n",
       "  </tbody>\n",
       "</table>\n",
       "</div>"
      ],
      "text/plain": [
       "   Age_range  Level  Used_DPN_tools  Lack_interest  Trouble_sleepig  \\\n",
       "0          1    400               2              1                1   \n",
       "1          1    400               1              1                0   \n",
       "2          1    400               1              1                1   \n",
       "3          1    100               1              0                0   \n",
       "4          1    400               1              0                0   \n",
       "\n",
       "    Feeling_tired  Poor_appetite  Feeling_bad  Trouble_concentrating  \\\n",
       "0               1              1            0                      0   \n",
       "1               1              0            1                      3   \n",
       "2               1              0            1                      1   \n",
       "3               0              0            1                      0   \n",
       "4               0              0            0                      1   \n",
       "\n",
       "   fidgety_or_restless  Thought_death  anxiety_attack  diagnosed_DPN_Past  \\\n",
       "0                    0              0               1                   1   \n",
       "1                    0              0               2                   1   \n",
       "2                    1              0               1                   1   \n",
       "3                    0              0               1                   1   \n",
       "4                    0              0               1                   1   \n",
       "\n",
       "   Score  \n",
       "0      4  \n",
       "1      7  \n",
       "2      7  \n",
       "3      1  \n",
       "4      1  "
      ]
     },
     "execution_count": 34,
     "metadata": {},
     "output_type": "execute_result"
    }
   ],
   "source": [
    "x.head()"
   ]
  },
  {
   "cell_type": "code",
   "execution_count": 35,
   "metadata": {},
   "outputs": [
    {
     "name": "stdout",
     "output_type": "stream",
     "text": [
      "Age_range:  \n",
      " 1    410\n",
      "0    254\n",
      "2     32\n",
      "3     20\n",
      "4     14\n",
      "Name: Age_range, dtype: int64 \n",
      "\n",
      "Used_DPN_tools:  \n",
      " 1    455\n",
      "2    196\n",
      "0     79\n",
      "Name: Used_DPN_tools, dtype: int64 \n",
      "\n",
      "anxiety_attack:  \n",
      " 1    359\n",
      "2    266\n",
      "0    105\n",
      "Name: anxiety_attack, dtype: int64 \n",
      "\n",
      "diagnosed_DPN_Past:  \n",
      " 1    511\n",
      "2    163\n",
      "0     56\n",
      "Name: diagnosed_DPN_Past, dtype: int64 \n",
      "\n"
     ]
    }
   ],
   "source": [
    "print('Age_range: ','\\n',x['Age_range'].value_counts(),'\\n')\n",
    "# 21-25  = 1\n",
    "# 16-20  = 0\n",
    "# 26-30  = 2  \n",
    "# 30-35  = 3 \n",
    "# 35-30  = 4\n",
    "\n",
    "print('Used_DPN_tools: ','\\n',x['Used_DPN_tools'].value_counts(),'\\n')\n",
    "# No    = 1\n",
    "# Yes   = 2\n",
    "# Maybe = 0\n",
    "\n",
    "print('anxiety_attack: ','\\n',x['anxiety_attack'].value_counts(),'\\n')\n",
    "# No    = 1\n",
    "# Yes   = 2\n",
    "# Maybe = 0\n",
    "\n",
    "print('diagnosed_DPN_Past: ','\\n',x['diagnosed_DPN_Past'].value_counts(),'\\n')\n",
    "# No    = 1\n",
    "# Yes   = 2\n",
    "# Maybe = 0"
   ]
  },
  {
   "cell_type": "code",
   "execution_count": 62,
   "metadata": {},
   "outputs": [
    {
     "data": {
      "text/plain": [
       "(730, 14)"
      ]
     },
     "execution_count": 62,
     "metadata": {},
     "output_type": "execute_result"
    }
   ],
   "source": [
    "x.shape"
   ]
  },
  {
   "cell_type": "code",
   "execution_count": 37,
   "metadata": {},
   "outputs": [
    {
     "name": "stdout",
     "output_type": "stream",
     "text": [
      "Collecting imblearn\n",
      "  Using cached imblearn-0.0-py2.py3-none-any.whl (1.9 kB)\n",
      "Collecting imbalanced-learn\n",
      "  Downloading imbalanced_learn-0.9.1-py3-none-any.whl (199 kB)\n",
      "Requirement already satisfied: scikit-learn>=1.1.0 in c:\\users\\yashim gabriel\\anaconda3\\lib\\site-packages (from imbalanced-learn->imblearn) (1.1.0)\n",
      "Requirement already satisfied: numpy>=1.17.3 in c:\\users\\yashim gabriel\\anaconda3\\lib\\site-packages (from imbalanced-learn->imblearn) (1.20.3)\n",
      "Requirement already satisfied: scipy>=1.3.2 in c:\\users\\yashim gabriel\\anaconda3\\lib\\site-packages (from imbalanced-learn->imblearn) (1.7.1)\n",
      "Requirement already satisfied: threadpoolctl>=2.0.0 in c:\\users\\yashim gabriel\\anaconda3\\lib\\site-packages (from imbalanced-learn->imblearn) (2.2.0)\n",
      "Requirement already satisfied: joblib>=1.0.0 in c:\\users\\yashim gabriel\\anaconda3\\lib\\site-packages (from imbalanced-learn->imblearn) (1.1.0)\n",
      "Installing collected packages: imbalanced-learn, imblearn\n",
      "Successfully installed imbalanced-learn-0.9.1 imblearn-0.0\n"
     ]
    }
   ],
   "source": [
    "!pip install imblearn"
   ]
  },
  {
   "cell_type": "code",
   "execution_count": 38,
   "metadata": {},
   "outputs": [],
   "source": [
    "from imblearn.over_sampling import SMOTE"
   ]
  },
  {
   "cell_type": "code",
   "execution_count": 39,
   "metadata": {},
   "outputs": [],
   "source": [
    "sm = SMOTE()\n",
    "\n",
    "x_train_aug, y_train_aug = sm.fit_resample(x,y)"
   ]
  },
  {
   "cell_type": "code",
   "execution_count": 40,
   "metadata": {},
   "outputs": [
    {
     "name": "stdout",
     "output_type": "stream",
     "text": [
      "Before SMOTE:  Counter({'Moderate': 230, 'Moderately severe': 184, 'Mild': 148, 'Normal': 111, 'Severe': 57})\n",
      "After SMOTE:  Counter({'Normal': 230, 'Mild': 230, 'Moderately severe': 230, 'Moderate': 230, 'Severe': 230})\n"
     ]
    }
   ],
   "source": [
    "from collections import Counter\n",
    "print('Before SMOTE: ',Counter(y))\n",
    "print('After SMOTE: ',Counter(y_train_aug))"
   ]
  },
  {
   "cell_type": "code",
   "execution_count": 41,
   "metadata": {},
   "outputs": [
    {
     "data": {
      "text/plain": [
       "(1150, 14)"
      ]
     },
     "execution_count": 41,
     "metadata": {},
     "output_type": "execute_result"
    }
   ],
   "source": [
    "x_train_aug.shape"
   ]
  },
  {
   "cell_type": "code",
   "execution_count": 76,
   "metadata": {},
   "outputs": [],
   "source": [
    "from sklearn.model_selection import train_test_split\n",
    "x_train, x_test, y_train, y_test = train_test_split(x_train_aug, y_train_aug, test_size=0.1,stratify=y_train_aug, random_state=1232)"
   ]
  },
  {
   "cell_type": "code",
   "execution_count": 77,
   "metadata": {},
   "outputs": [],
   "source": [
    "# from catboost import CatBoostClassifier\n",
    "from sklearn.ensemble import RandomForestClassifier\n",
    "from sklearn.ensemble import GradientBoostingClassifier"
   ]
  },
  {
   "cell_type": "code",
   "execution_count": 78,
   "metadata": {},
   "outputs": [],
   "source": [
    "# CBC = CatBoostClassifier()\n",
    "RFC = RandomForestClassifier()\n",
    "GBC = GradientBoostingClassifier()"
   ]
  },
  {
   "cell_type": "code",
   "execution_count": 79,
   "metadata": {},
   "outputs": [
    {
     "data": {
      "text/html": [
       "<style>#sk-container-id-2 {color: black;background-color: white;}#sk-container-id-2 pre{padding: 0;}#sk-container-id-2 div.sk-toggleable {background-color: white;}#sk-container-id-2 label.sk-toggleable__label {cursor: pointer;display: block;width: 100%;margin-bottom: 0;padding: 0.3em;box-sizing: border-box;text-align: center;}#sk-container-id-2 label.sk-toggleable__label-arrow:before {content: \"▸\";float: left;margin-right: 0.25em;color: #696969;}#sk-container-id-2 label.sk-toggleable__label-arrow:hover:before {color: black;}#sk-container-id-2 div.sk-estimator:hover label.sk-toggleable__label-arrow:before {color: black;}#sk-container-id-2 div.sk-toggleable__content {max-height: 0;max-width: 0;overflow: hidden;text-align: left;background-color: #f0f8ff;}#sk-container-id-2 div.sk-toggleable__content pre {margin: 0.2em;color: black;border-radius: 0.25em;background-color: #f0f8ff;}#sk-container-id-2 input.sk-toggleable__control:checked~div.sk-toggleable__content {max-height: 200px;max-width: 100%;overflow: auto;}#sk-container-id-2 input.sk-toggleable__control:checked~label.sk-toggleable__label-arrow:before {content: \"▾\";}#sk-container-id-2 div.sk-estimator input.sk-toggleable__control:checked~label.sk-toggleable__label {background-color: #d4ebff;}#sk-container-id-2 div.sk-label input.sk-toggleable__control:checked~label.sk-toggleable__label {background-color: #d4ebff;}#sk-container-id-2 input.sk-hidden--visually {border: 0;clip: rect(1px 1px 1px 1px);clip: rect(1px, 1px, 1px, 1px);height: 1px;margin: -1px;overflow: hidden;padding: 0;position: absolute;width: 1px;}#sk-container-id-2 div.sk-estimator {font-family: monospace;background-color: #f0f8ff;border: 1px dotted black;border-radius: 0.25em;box-sizing: border-box;margin-bottom: 0.5em;}#sk-container-id-2 div.sk-estimator:hover {background-color: #d4ebff;}#sk-container-id-2 div.sk-parallel-item::after {content: \"\";width: 100%;border-bottom: 1px solid gray;flex-grow: 1;}#sk-container-id-2 div.sk-label:hover label.sk-toggleable__label {background-color: #d4ebff;}#sk-container-id-2 div.sk-serial::before {content: \"\";position: absolute;border-left: 1px solid gray;box-sizing: border-box;top: 0;bottom: 0;left: 50%;z-index: 0;}#sk-container-id-2 div.sk-serial {display: flex;flex-direction: column;align-items: center;background-color: white;padding-right: 0.2em;padding-left: 0.2em;position: relative;}#sk-container-id-2 div.sk-item {position: relative;z-index: 1;}#sk-container-id-2 div.sk-parallel {display: flex;align-items: stretch;justify-content: center;background-color: white;position: relative;}#sk-container-id-2 div.sk-item::before, #sk-container-id-2 div.sk-parallel-item::before {content: \"\";position: absolute;border-left: 1px solid gray;box-sizing: border-box;top: 0;bottom: 0;left: 50%;z-index: -1;}#sk-container-id-2 div.sk-parallel-item {display: flex;flex-direction: column;z-index: 1;position: relative;background-color: white;}#sk-container-id-2 div.sk-parallel-item:first-child::after {align-self: flex-end;width: 50%;}#sk-container-id-2 div.sk-parallel-item:last-child::after {align-self: flex-start;width: 50%;}#sk-container-id-2 div.sk-parallel-item:only-child::after {width: 0;}#sk-container-id-2 div.sk-dashed-wrapped {border: 1px dashed gray;margin: 0 0.4em 0.5em 0.4em;box-sizing: border-box;padding-bottom: 0.4em;background-color: white;}#sk-container-id-2 div.sk-label label {font-family: monospace;font-weight: bold;display: inline-block;line-height: 1.2em;}#sk-container-id-2 div.sk-label-container {text-align: center;}#sk-container-id-2 div.sk-container {/* jupyter's `normalize.less` sets `[hidden] { display: none; }` but bootstrap.min.css set `[hidden] { display: none !important; }` so we also need the `!important` here to be able to override the default hidden behavior on the sphinx rendered scikit-learn.org. See: https://github.com/scikit-learn/scikit-learn/issues/21755 */display: inline-block !important;position: relative;}#sk-container-id-2 div.sk-text-repr-fallback {display: none;}</style><div id=\"sk-container-id-2\" class=\"sk-top-container\"><div class=\"sk-text-repr-fallback\"><pre>GradientBoostingClassifier()</pre><b>In a Jupyter environment, please rerun this cell to show the HTML representation or trust the notebook. <br />On GitHub, the HTML representation is unable to render, please try loading this page with nbviewer.org.</b></div><div class=\"sk-container\" hidden><div class=\"sk-item\"><div class=\"sk-estimator sk-toggleable\"><input class=\"sk-toggleable__control sk-hidden--visually\" id=\"sk-estimator-id-2\" type=\"checkbox\" checked><label for=\"sk-estimator-id-2\" class=\"sk-toggleable__label sk-toggleable__label-arrow\">GradientBoostingClassifier</label><div class=\"sk-toggleable__content\"><pre>GradientBoostingClassifier()</pre></div></div></div></div></div>"
      ],
      "text/plain": [
       "GradientBoostingClassifier()"
      ]
     },
     "execution_count": 79,
     "metadata": {},
     "output_type": "execute_result"
    }
   ],
   "source": [
    "# CBC.fit(x_train,y_train)\n",
    "\n",
    "RFC.fit(x_train, y_train)\n",
    "\n",
    "GBC.fit(x_train, y_train)"
   ]
  },
  {
   "cell_type": "code",
   "execution_count": 48,
   "metadata": {},
   "outputs": [],
   "source": [
    "# CBC_prediction = CBC.predict(x_test)\n",
    "# CBC_prediction\n",
    "\n",
    "RFC_prediction = RFC.predict(x_test)\n",
    "\n",
    "GBC_prediction = GBC.predict(x_test)"
   ]
  },
  {
   "cell_type": "code",
   "execution_count": 49,
   "metadata": {},
   "outputs": [],
   "source": [
    "# CBC_x_train_prediction = CBC.predict(x_train)\n",
    "\n",
    "RFC_x_train_prediction = RFC.predict(x_train)\n",
    "\n",
    "GBC_x_train_prediction = GBC.predict(x_train)"
   ]
  },
  {
   "cell_type": "code",
   "execution_count": 50,
   "metadata": {},
   "outputs": [],
   "source": [
    "from sklearn.metrics import accuracy_score, classification_report \n",
    "from sklearn import metrics"
   ]
  },
  {
   "cell_type": "code",
   "execution_count": 51,
   "metadata": {},
   "outputs": [],
   "source": [
    "# accuracy_CBC = metrics.accuracy_score(y_test, CBC_prediction)\n",
    "\n",
    "accuracy_RFC= metrics.accuracy_score(y_test, RFC_prediction)\n",
    "\n",
    "accuracy_GBC= metrics.accuracy_score(y_test, GBC_prediction)"
   ]
  },
  {
   "cell_type": "code",
   "execution_count": 52,
   "metadata": {},
   "outputs": [
    {
     "name": "stdout",
     "output_type": "stream",
     "text": [
      "Test accuracy for RFC:  0.9304347826086956 \n",
      "\n",
      "Train accuracy for RFC:  1.0 \n",
      "\n",
      "                   precision    recall  f1-score   support\n",
      "\n",
      "             Mild       1.00      0.83      0.90        23\n",
      "         Moderate       0.84      0.91      0.87        23\n",
      "Moderately severe       0.91      0.91      0.91        23\n",
      "           Normal       0.96      1.00      0.98        23\n",
      "           Severe       0.96      1.00      0.98        23\n",
      "\n",
      "         accuracy                           0.93       115\n",
      "        macro avg       0.93      0.93      0.93       115\n",
      "     weighted avg       0.93      0.93      0.93       115\n",
      "\n",
      "<--------------------------------------------> \n",
      "\n",
      "\n",
      "Test accuracy for GBC:  0.9652173913043478 \n",
      "\n",
      "Train accuracy for GBC:  1.0 \n",
      "\n",
      "                   precision    recall  f1-score   support\n",
      "\n",
      "             Mild       1.00      0.91      0.95        23\n",
      "         Moderate       0.92      0.96      0.94        23\n",
      "Moderately severe       0.96      0.96      0.96        23\n",
      "           Normal       1.00      1.00      1.00        23\n",
      "           Severe       0.96      1.00      0.98        23\n",
      "\n",
      "         accuracy                           0.97       115\n",
      "        macro avg       0.97      0.97      0.97       115\n",
      "     weighted avg       0.97      0.97      0.97       115\n",
      "\n",
      "<--------------------------------------------> \n",
      "\n",
      "\n"
     ]
    }
   ],
   "source": [
    "# print('Test accuracy for CBC: ',accuracy_CBC,'\\n')\n",
    "\n",
    "# print('Train accuracy for CBC: ',accuracy_score(y_train,CBC_x_train_prediction),'\\n')\n",
    "\n",
    "# print(classification_report(y_test, CBC_prediction))\n",
    "\n",
    "# print('<-------------------------------------------->','\\n'*2)\n",
    "\n",
    "\n",
    "print('Test accuracy for RFC: ',accuracy_RFC, '\\n')\n",
    "\n",
    "print('Train accuracy for RFC: ',accuracy_score(y_train,RFC_x_train_prediction), '\\n')\n",
    "\n",
    "print(classification_report(y_test, RFC_prediction))\n",
    "\n",
    "print('<-------------------------------------------->','\\n'*2)\n",
    "\n",
    "\n",
    "print('Test accuracy for GBC: ',accuracy_GBC, '\\n')\n",
    "\n",
    "print('Train accuracy for GBC: ',accuracy_score(y_train,RFC_x_train_prediction),'\\n')\n",
    "\n",
    "print(classification_report(y_test, GBC_prediction))\n",
    "\n",
    "print('<-------------------------------------------->','\\n'*2)"
   ]
  },
  {
   "cell_type": "code",
   "execution_count": 53,
   "metadata": {},
   "outputs": [],
   "source": [
    "def ConfusionMatrix(ytest, ypred, label = [\"class1\", \"class2\",\"class3\",\"class4\",\"class5\"]):\n",
    "    \"A beautiful confusion matrix function to check the model performance\"\n",
    "    from sklearn.metrics import confusion_matrix\n",
    "    import seaborn as sns\n",
    "    cm = confusion_matrix(ytest, ypred)\n",
    "    plt.figure(figsize=(10, 10))\n",
    "    sns.heatmap(cm, annot = True, cbar = False, fmt = 'd', cmap = 'winter')\n",
    "    plt.xlabel('Predicted', fontsize = 13)\n",
    "    plt.xticks([0.5, 1.5,2.5, 3.5,4.5], label)\n",
    "    plt.yticks([0.5, 1.5,2.5, 3.5,4.5], label)\n",
    "    plt.ylabel('Truth', fontsize = 13)\n",
    "    plt.title('A confusion matrix');"
   ]
  },
  {
   "cell_type": "code",
   "execution_count": 54,
   "metadata": {},
   "outputs": [],
   "source": [
    "# ConfusionMatrix(y_test, CBC_prediction, label= ['Mild', 'Moderate', 'Moderately Severe','Normal', 'Severe'])"
   ]
  },
  {
   "cell_type": "code",
   "execution_count": 55,
   "metadata": {},
   "outputs": [
    {
     "data": {
      "image/png": "[encoded data removed]",
      "text/plain": [
       "<Figure size 720x720 with 1 Axes>"
      ]
     },
     "metadata": {
      "needs_background": "light"
     },
     "output_type": "display_data"
    }
   ],
   "source": [
    "ConfusionMatrix(y_test, RFC_prediction, label= ['Mild', 'Moderate', 'Moderately Severe','Normal', 'Severe'])"
   ]
  },
  {
   "cell_type": "code",
   "execution_count": 56,
   "metadata": {},
   "outputs": [
    {
     "data": {
      "image/png": "[encoded data removed]",
      "text/plain": [
       "<Figure size 720x720 with 1 Axes>"
      ]
     },
     "metadata": {
      "needs_background": "light"
     },
     "output_type": "display_data"
    }
   ],
   "source": [
    "ConfusionMatrix(y_test, GBC_prediction, label= ['Mild', 'Moderate', 'Moderately Severe','Normal', 'Severe'])"
   ]
  },
  {
   "cell_type": "markdown",
   "metadata": {},
   "source": [
    "## Let's Visualize and Compare the Performance of the three Models."
   ]
  },
  {
   "cell_type": "code",
   "execution_count": 57,
   "metadata": {},
   "outputs": [
    {
     "data": {
      "image/png": "[encoded data removed]",
      "text/plain": [
       "<Figure size 1000x500 with 1 Axes>"
      ]
     },
     "metadata": {
      "needs_background": "light"
     },
     "output_type": "display_data"
    }
   ],
   "source": [
    "acc = []\n",
    "model = []\n",
    "\n",
    "#Let us store the models and their accuracy score in the empyt lists we created\n",
    "\n",
    "# acc.append(accuracy_CBC)\n",
    "# model.append('Catboost Classifier')\n",
    "\n",
    "acc.append(accuracy_RFC)\n",
    "model.append('Random Forest Classifier')\n",
    "\n",
    "acc.append(accuracy_GBC)\n",
    "model.append('Gradient Boost Classifier')\n",
    "\n",
    "plt.figure(figsize=[10,5],dpi = 100)\n",
    "plt.title('Accuracy Comparison for Result A')\n",
    "plt.ylabel('Accuracy')\n",
    "plt.xlabel('Algorithm')\n",
    "sns.boxplot(y = acc,x = model,palette='dark')\n",
    "plt.show()"
   ]
  },
  {
   "cell_type": "code",
   "execution_count": 60,
   "metadata": {},
   "outputs": [],
   "source": [
    "import pickle\n",
    "# Dump the trained Gradient Boosting classifier with Pickle\n",
    "GBC_pkl_filename = 'GradientBoost.pkl'\n",
    "\n",
    "# Open the file to save as pkl file\n",
    "GBC_Model_pkl = open(GBC_pkl_filename, 'wb')\n",
    "pickle.dump(GBC, GBC_Model_pkl)\n",
    "\n",
    "# Close the pickle instances\n",
    "GBC_Model_pkl.close()"
   ]
  },
  {
   "cell_type": "code",
   "execution_count": 2,
   "metadata": {},
   "outputs": [],
   "source": [
    "import pickle\n",
    "model = pickle.load(open('GradientBoost.pkl', 'rb'))"
   ]
  },
  {
   "cell_type": "markdown",
   "metadata": {},
   "source": [
    "## Making new presictions from the pretrained model\n",
    "What we  are going to do in the next cell is what happens in a webapp ahen you try to check your depression state"
   ]
  },
  {
   "cell_type": "code",
   "execution_count": 6,
   "metadata": {},
   "outputs": [
    {
     "name": "stdout",
     "output_type": "stream",
     "text": [
      "Moderately severe\n"
     ]
    },
    {
     "name": "stderr",
     "output_type": "stream",
     "text": [
      "C:\\Users\\YASHIM GABRIEL\\anaconda3\\lib\\site-packages\\sklearn\\base.py:450: UserWarning: X does not have valid feature names, but GradientBoostingClassifier was fitted with feature names\n",
      "  warnings.warn(\n"
     ]
    }
   ],
   "source": [
    "import numpy as np\n",
    "pr = model.predict(np.array([['0','400','1','3','2','2','2','0','2','3','1','2','1','15']]))\n",
    "print(pr[0])"
   ]
  },
  {
   "cell_type": "code",
   "execution_count": null,
   "metadata": {},
   "outputs": [],
   "source": []
  }
 ],
 "metadata": {
  "kernelspec": {
   "display_name": "Python 3 (ipykernel)",
   "language": "python",
   "name": "python3"
  },
  "language_info": {
   "codemirror_mode": {
    "name": "ipython",
    "version": 3
   },
   "file_extension": ".py",
   "mimetype": "text/x-python",
   "name": "python",
   "nbconvert_exporter": "python",
   "pygments_lexer": "ipython3",
   "version": "3.9.7"
  }
 },
 "nbformat": 4,
 "nbformat_minor": 2
}
